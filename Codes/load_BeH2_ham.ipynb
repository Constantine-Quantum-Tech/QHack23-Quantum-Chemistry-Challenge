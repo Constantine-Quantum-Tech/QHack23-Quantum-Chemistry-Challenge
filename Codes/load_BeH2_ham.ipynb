{
 "cells": [
  {
   "cell_type": "code",
   "execution_count": 10,
   "id": "b1e0b9af",
   "metadata": {},
   "outputs": [],
   "source": [
    "from qiskit.opflow import  I, X, Y, Z\n",
    "from qiskit.opflow.primitive_ops import PauliSumOp\n",
    "from qiskit.quantum_info import SparsePauliOp\n",
    "from qiskit.circuit.library import EfficientSU2"
   ]
  },
  {
   "cell_type": "markdown",
   "id": "d4df1036",
   "metadata": {},
   "source": [
    "## Hamiltonian\n",
    "\n",
    "We load the Hamiltonian from an external file. For this demonstration, the Hamiltonian was taken directly from [Kandala et al.](https://www.nature.com/articles/nature23879)."
   ]
  },
  {
   "cell_type": "code",
   "execution_count": 12,
   "id": "7b8c4c0f",
   "metadata": {},
   "outputs": [],
   "source": [
    "from qiskit.opflow import I, X, Y, Z, PauliSumOp\n",
    "\n",
    "# Define the coefficients and Pauli words\n",
    "\n",
    "lines = None\n",
    "\n",
    "with open('BeH2_ham.txt') as f:\n",
    "    lines = [line.rstrip() for line in f]\n",
    "\n",
    "paulis = []\n",
    "coeffs = []\n",
    "\n",
    "for i in range(0, len(lines), 2):\n",
    "    paulis.append(lines[i])\n",
    "    coeffs.append(float(lines[i+1]))\n",
    "\n",
    "# -----------------\n",
    "    \n",
    "ops = []\n",
    "\n",
    "for coeff, pauli in zip(coeffs, paulis):\n",
    "    if pauli[0] == 'I':\n",
    "        op = I\n",
    "    elif pauli[0] == 'X':\n",
    "        op = X\n",
    "    elif pauli[0] == 'Y':\n",
    "        op = Y\n",
    "    elif pauli[0] == 'Z':\n",
    "        op = Z\n",
    "\n",
    "    for p in pauli[1:]:\n",
    "        if p == 'I':\n",
    "            op = op ^ I\n",
    "        elif p == 'X':\n",
    "            op = op ^ X\n",
    "        elif p == 'Y':\n",
    "            op = op ^ Y\n",
    "        elif p == 'Z':\n",
    "            op = op ^ Z\n",
    "    \n",
    "    op = coeff * op\n",
    "    ops.append(op)\n",
    "\n",
    "hh = sum(ops)\n"
   ]
  },
  {
   "cell_type": "markdown",
   "id": "f3b183a8",
   "metadata": {},
   "source": [
    "## Ansatz\n",
    "We construct a similar Ansatz as [Kandala et al.](https://www.nature.com/articles/nature23879)."
   ]
  },
  {
   "cell_type": "code",
   "execution_count": 14,
   "id": "349753d5",
   "metadata": {},
   "outputs": [],
   "source": [
    "hamiltonian_op = hh"
   ]
  },
  {
   "cell_type": "code",
   "execution_count": 30,
   "id": "c8bcc6fa",
   "metadata": {},
   "outputs": [],
   "source": [
    "from qiskit.circuit import QuantumCircuit, ParameterVector\n",
    "\n",
    "# Define the Ansatz\n",
    "wavefunction = QuantumCircuit(7)\n",
    "params = ParameterVector('theta', length=24)\n",
    "it = iter(params)\n",
    "\n",
    "for _ in range(6):\n",
    "    wavefunction.rx(next(it), _)\n",
    "    wavefunction.rz(next(it), _)\n",
    "\n",
    "wavefunction.cx(0, 1)\n",
    "wavefunction.cx(1, 3)\n",
    "wavefunction.cx(3, 5)\n",
    "wavefunction.cx(5, 6)\n",
    "wavefunction.cx(5, 4)\n",
    "\n",
    "for _ in range(6):\n",
    "    wavefunction.rx(next(it), _)\n",
    "    wavefunction.rz(next(it), _)"
   ]
  },
  {
   "cell_type": "markdown",
   "id": "c19b6915",
   "metadata": {},
   "source": [
    "## VQE\n",
    "This is an example of a VQE code in Qiskit. The following code will not give optimal results for the moment, as the Ansatz and the VQE's parameters need to be better chosen. This is here for demonstration purposes only."
   ]
  },
  {
   "cell_type": "code",
   "execution_count": 31,
   "id": "33146379",
   "metadata": {},
   "outputs": [],
   "source": [
    "from qiskit.opflow.gradients import Gradient, NaturalGradient, QFI, Hessian\n",
    "grad = Gradient(grad_method='lin_comb')"
   ]
  },
  {
   "cell_type": "code",
   "execution_count": 38,
   "id": "5a4d9445",
   "metadata": {},
   "outputs": [],
   "source": [
    "from qiskit.algorithms.optimizers import COBYLA, SPSA, SLSQP\n",
    "optimizer = SPSA(maxiter=100)"
   ]
  },
  {
   "cell_type": "code",
   "execution_count": 39,
   "id": "5b5e7861",
   "metadata": {},
   "outputs": [],
   "source": [
    "from qiskit import BasicAer, Aer\n",
    "from qiskit.utils import QuantumInstance\n",
    "\n",
    "backend = Aer.get_backend('aer_simulator')\n",
    "qi = QuantumInstance(backend)"
   ]
  },
  {
   "cell_type": "code",
   "execution_count": 40,
   "id": "e874dc5e",
   "metadata": {},
   "outputs": [],
   "source": [
    "from qiskit.algorithms import VQE"
   ]
  },
  {
   "cell_type": "code",
   "execution_count": 41,
   "id": "55cab10c",
   "metadata": {},
   "outputs": [],
   "source": [
    "vqe = VQE(var_form, optimizer=optimizer, quantum_instance=qi)"
   ]
  },
  {
   "cell_type": "code",
   "execution_count": 42,
   "id": "3be56442",
   "metadata": {},
   "outputs": [
    {
     "name": "stdout",
     "output_type": "stream",
     "text": [
      "{   'aux_operator_eigenvalues': None,\n",
      "    'cost_function_evals': 200,\n",
      "    'eigenstate': {   '000001': 0.03125,\n",
      "                      '000010': 0.08267972847076846,\n",
      "                      '000011': 0.04419417382415922,\n",
      "                      '000100': 0.03125,\n",
      "                      '000110': 0.05412658773652741,\n",
      "                      '001000': 0.04419417382415922,\n",
      "                      '001001': 0.03125,\n",
      "                      '001010': 0.14320549046737,\n",
      "                      '001011': 0.05412658773652741,\n",
      "                      '001100': 0.06987712429686843,\n",
      "                      '001101': 0.05412658773652741,\n",
      "                      '001110': 0.08267972847076846,\n",
      "                      '001111': 0.05412658773652741,\n",
      "                      '010000': 0.0625,\n",
      "                      '010001': 0.05412658773652741,\n",
      "                      '010010': 0.7146622891268295,\n",
      "                      '010011': 0.3603925810834624,\n",
      "                      '010100': 0.2072890493972125,\n",
      "                      '010101': 0.10364452469860624,\n",
      "                      '010110': 0.184877493221863,\n",
      "                      '010111': 0.08838834764831845,\n",
      "                      '011000': 0.07654655446197431,\n",
      "                      '011001': 0.04419417382415922,\n",
      "                      '011010': 0.14320549046737,\n",
      "                      '011011': 0.07654655446197431,\n",
      "                      '011100': 0.0625,\n",
      "                      '011110': 0.10825317547305482,\n",
      "                      '011111': 0.0625,\n",
      "                      '100010': 0.1711632992203644,\n",
      "                      '100011': 0.05412658773652741,\n",
      "                      '100100': 0.08267972847076846,\n",
      "                      '100101': 0.04419417382415922,\n",
      "                      '100110': 0.0625,\n",
      "                      '101010': 0.03125,\n",
      "                      '101110': 0.03125,\n",
      "                      '101111': 0.03125,\n",
      "                      '110000': 0.04419417382415922,\n",
      "                      '110001': 0.05412658773652741,\n",
      "                      '110010': 0.13621559198564606,\n",
      "                      '110011': 0.05412658773652741,\n",
      "                      '110100': 0.03125,\n",
      "                      '110101': 0.05412658773652741,\n",
      "                      '110110': 0.12103072956898178,\n",
      "                      '110111': 0.05412658773652741,\n",
      "                      '111000': 0.04419417382415922,\n",
      "                      '111001': 0.03125,\n",
      "                      '111010': 0.17399263633843817,\n",
      "                      '111011': 0.09882117688026186,\n",
      "                      '111101': 0.05412658773652741,\n",
      "                      '111110': 0.04419417382415922,\n",
      "                      '111111': 0.04419417382415922},\n",
      "    'eigenvalue': (-1.4733394042968748+0j),\n",
      "    'optimal_circuit': None,\n",
      "    'optimal_parameters': {   ParameterVectorElement(θ[5]): -1.583315959990699,\n",
      "                              ParameterVectorElement(θ[11]): -0.36210017080070284,\n",
      "                              ParameterVectorElement(θ[4]): -1.8055645154150521,\n",
      "                              ParameterVectorElement(θ[10]): 3.9296538471406235,\n",
      "                              ParameterVectorElement(θ[9]): -0.24671625966126567,\n",
      "                              ParameterVectorElement(θ[8]): -1.7827326888407835,\n",
      "                              ParameterVectorElement(θ[6]): -1.661138306364048,\n",
      "                              ParameterVectorElement(θ[2]): 2.0476160032877924,\n",
      "                              ParameterVectorElement(θ[3]): 1.6147048070750023,\n",
      "                              ParameterVectorElement(θ[1]): -1.6926344080300841,\n",
      "                              ParameterVectorElement(θ[0]): -2.160037460122778,\n",
      "                              ParameterVectorElement(θ[7]): 1.3857229961552686,\n",
      "                              ParameterVectorElement(θ[13]): 4.537275218581932,\n",
      "                              ParameterVectorElement(θ[23]): 2.721523762637129,\n",
      "                              ParameterVectorElement(θ[22]): 1.2200090902298724,\n",
      "                              ParameterVectorElement(θ[20]): -0.07027708467608798,\n",
      "                              ParameterVectorElement(θ[21]): -0.2937243666787664,\n",
      "                              ParameterVectorElement(θ[19]): 2.2539926304465325,\n",
      "                              ParameterVectorElement(θ[18]): 1.3465734664306777,\n",
      "                              ParameterVectorElement(θ[17]): 2.1388810597585963,\n",
      "                              ParameterVectorElement(θ[16]): 4.255351823201154,\n",
      "                              ParameterVectorElement(θ[14]): 0.09784399375274912,\n",
      "                              ParameterVectorElement(θ[15]): 1.6674520968453586,\n",
      "                              ParameterVectorElement(θ[24]): -2.7639563747098994,\n",
      "                              ParameterVectorElement(θ[12]): 3.0770793222317696,\n",
      "                              ParameterVectorElement(θ[25]): -2.344147341908037,\n",
      "                              ParameterVectorElement(θ[26]): -2.3871097019813363,\n",
      "                              ParameterVectorElement(θ[27]): -0.24078060709829524,\n",
      "                              ParameterVectorElement(θ[28]): 1.4827867761992908,\n",
      "                              ParameterVectorElement(θ[29]): 2.288170447453311,\n",
      "                              ParameterVectorElement(θ[31]): -2.0362648814927335,\n",
      "                              ParameterVectorElement(θ[30]): 0.8410388709629804,\n",
      "                              ParameterVectorElement(θ[32]): -3.3871138345380802,\n",
      "                              ParameterVectorElement(θ[33]): 0.05301811151092029,\n",
      "                              ParameterVectorElement(θ[34]): 2.388447339907319,\n",
      "                              ParameterVectorElement(θ[35]): -2.757287647451838,\n",
      "                              ParameterVectorElement(θ[36]): 2.9624513658547653,\n",
      "                              ParameterVectorElement(θ[38]): -1.8460428702558038,\n",
      "                              ParameterVectorElement(θ[37]): -2.2897168185654864,\n",
      "                              ParameterVectorElement(θ[40]): -4.712275500920535,\n",
      "                              ParameterVectorElement(θ[39]): 1.0363069085151309,\n",
      "                              ParameterVectorElement(θ[41]): 1.2543629176759319,\n",
      "                              ParameterVectorElement(θ[46]): 6.6178208875596045,\n",
      "                              ParameterVectorElement(θ[42]): -1.2735837176700324,\n",
      "                              ParameterVectorElement(θ[43]): -3.3989583723365957,\n",
      "                              ParameterVectorElement(θ[44]): 0.14707062932620177,\n",
      "                              ParameterVectorElement(θ[45]): 1.5873190939179211,\n",
      "                              ParameterVectorElement(θ[47]): 2.4445350149283915},\n",
      "    'optimal_point': array([-2.16003746, -1.69263441,  2.047616  ,  1.61470481, -1.80556452,\n",
      "       -1.58331596, -1.66113831,  1.385723  , -1.78273269, -0.24671626,\n",
      "        3.92965385, -0.36210017,  3.07707932,  4.53727522,  0.09784399,\n",
      "        1.6674521 ,  4.25535182,  2.13888106,  1.34657347,  2.25399263,\n",
      "       -0.07027708, -0.29372437,  1.22000909,  2.72152376, -2.76395637,\n",
      "       -2.34414734, -2.3871097 , -0.24078061,  1.48278678,  2.28817045,\n",
      "        0.84103887, -2.03626488, -3.38711383,  0.05301811,  2.38844734,\n",
      "       -2.75728765,  2.96245137, -2.28971682, -1.84604287,  1.03630691,\n",
      "       -4.7122755 ,  1.25436292, -1.27358372, -3.39895837,  0.14707063,\n",
      "        1.58731909,  6.61782089,  2.44453501]),\n",
      "    'optimal_value': -1.4733394042968748,\n",
      "    'optimizer_evals': None,\n",
      "    'optimizer_result': None,\n",
      "    'optimizer_time': 541.3001623153687}\n"
     ]
    }
   ],
   "source": [
    "result = vqe.compute_minimum_eigenvalue(operator=hamiltonian_op)\n",
    "print(result)\n",
    "optimizer_evals = result.optimizer_evals"
   ]
  },
  {
   "cell_type": "code",
   "execution_count": null,
   "id": "f248636b",
   "metadata": {},
   "outputs": [],
   "source": []
  }
 ],
 "metadata": {
  "kernelspec": {
   "display_name": "Python 3 (ipykernel)",
   "language": "python",
   "name": "python3"
  },
  "language_info": {
   "codemirror_mode": {
    "name": "ipython",
    "version": 3
   },
   "file_extension": ".py",
   "mimetype": "text/x-python",
   "name": "python",
   "nbconvert_exporter": "python",
   "pygments_lexer": "ipython3",
   "version": "3.8.13"
  }
 },
 "nbformat": 4,
 "nbformat_minor": 5
}
