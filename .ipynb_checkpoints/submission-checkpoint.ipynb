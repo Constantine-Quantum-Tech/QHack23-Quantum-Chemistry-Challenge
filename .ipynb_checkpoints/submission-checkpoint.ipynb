{
 "cells": [
  {
   "cell_type": "markdown",
   "metadata": {},
   "source": [
    "# QHACK's Quantum Chemistry Challenge"
   ]
  },
  {
   "cell_type": "markdown",
   "metadata": {},
   "source": [
    "This is Constantine Quantum Technologies's solution to QHACK's Quantum Chemistry Challenge. The challenge asks to calculate the ground state of the $BeH2$ molecule using quantum computational methods.\n",
    "\n",
    "**Team**:\n",
    "- Abdellah Tounsi\n",
    "- Mohamed Messaoud Louamri\n",
    "- Nacer eddine Belaloui"
   ]
  },
  {
   "cell_type": "markdown",
   "metadata": {},
   "source": [
    "**Setup**:\n",
    "⚠️ _(make sure to have all the packages installed and up-to-date!)_"
   ]
  },
  {
   "cell_type": "code",
   "execution_count": 1,
   "metadata": {
    "id": "JbJZGOS-W-Fs"
   },
   "outputs": [],
   "source": [
    "# !pip install qiskit qiskit_nature pyscf qiskit_ibm_runtime --upgrade --quiet"
   ]
  },
  {
   "cell_type": "code",
   "execution_count": 5,
   "metadata": {
    "id": "IRU8d6Z9XAUP"
   },
   "outputs": [],
   "source": [
    "import numpy as np\n",
    "import matplotlib.pyplot as plt\n",
    "from time import time\n",
    "from pathlib import Path\n",
    "\n",
    "import warnings\n",
    "warnings.filterwarnings('ignore')\n",
    "\n",
    "from qiskit_ibm_runtime import QiskitRuntimeService, Session, Options, Sampler, Estimator\n",
    "\n",
    "from qiskit import compiler\n",
    "from qiskit.providers.fake_provider import FakeGuadalupeV2\n",
    "\n",
    "from qiskit.primitives import BackendEstimator\n",
    "from qiskit.algorithms import MinimumEigensolverResult\n",
    "\n",
    "from qiskit_nature.drivers import Molecule\n",
    "from qiskit_nature.drivers.second_quantization import ElectronicStructureDriverType, ElectronicStructureMoleculeDriver\n",
    "from qiskit_nature.converters.second_quantization import QubitConverter\n",
    "from qiskit_nature.mappers.second_quantization import BravyiKitaevMapper, JordanWignerMapper, ParityMapper\n",
    "from qiskit_nature.problems.second_quantization.electronic import ElectronicStructureProblem\n",
    "from qiskit_nature.transformers.second_quantization.electronic import ActiveSpaceTransformer\n",
    "\n",
    "from qiskit_nature.circuit.library import UCC\n",
    "from qiskit.circuit.library import EfficientSU2\n",
    "\n",
    "from qiskit.algorithms.optimizers import SPSA\n",
    "\n",
    "from qiskit_nature.settings import settings\n",
    "\n",
    "settings.dict_aux_operators = True\n"
   ]
  },
  {
   "cell_type": "code",
   "execution_count": 76,
   "metadata": {},
   "outputs": [
    {
     "data": {
      "text/html": [
       "<h3>Version Information</h3><table><tr><th>Qiskit Software</th><th>Version</th></tr><tr><td><code>qiskit-terra</code></td><td>0.23.2</td></tr><tr><td><code>qiskit-aer</code></td><td>0.11.2</td></tr><tr><td><code>qiskit-ibmq-provider</code></td><td>0.20.1</td></tr><tr><td><code>qiskit</code></td><td>0.41.1</td></tr><tr><td><code>qiskit-nature</code></td><td>0.5.2</td></tr><tr><th>System information</th></tr><tr><td>Python version</td><td>3.10.9</td></tr><tr><td>Python compiler</td><td>GCC 11.2.0</td></tr><tr><td>Python build</td><td>main, Jan 11 2023 15:21:40</td></tr><tr><td>OS</td><td>Linux</td></tr><tr><td>CPUs</td><td>2</td></tr><tr><td>Memory (Gb)</td><td>7.633819580078125</td></tr><tr><td colspan='2'>Tue Feb 28 21:12:02 2023 CET</td></tr></table>"
      ],
      "text/plain": [
       "<IPython.core.display.HTML object>"
      ]
     },
     "metadata": {},
     "output_type": "display_data"
    }
   ],
   "source": [
    "import qiskit.tools.jupyter\n",
    "%qiskit_version_table"
   ]
  },
  {
   "cell_type": "markdown",
   "metadata": {
    "id": "LoV9ICVfXnsx"
   },
   "source": [
    "## Defining the problem"
   ]
  },
  {
   "cell_type": "markdown",
   "metadata": {},
   "source": [
    "To represent wave functions and Hamiltonians in quantum chemistry problems such as the one we are tackling in QHack 2023, we need to use a set of atomic orbitals functions which will serve as a basis set for our quantum states. These are used to approximate and compute solutions for molecular problems in quantum chemistry. Specifically, in our challenge, the problem is to find the ground state energy of the BeH2 molecule. \n",
    "\n",
    "There exists a variety of basis sets one can use in quantum chemistry, each offering advantages and disadvantages, which depend on the nature of the molecule to be studied. We can cite three examples here, which are suitable for small, medium, and large molecules: \n",
    "\n",
    "The STO-3G basis set is one of the simplest options that is widely used for small molecules. It uses three Gaussian functions that create Slater-type orbitals through a linear combination. It gives reliable results in a short amount of time, but it is not precise enough for larger molecules. \n",
    "\n",
    "The 6-31G basis set is used for medium-sized molecules. This basis set utilizes two sets of functions, one for the core electrons (6 Gaussian functions) and the other for the valence electrons (31 Gaussian functions), thus its name. It provides more accuracy than STO-3G but will require more computational power. \n",
    "\n",
    "The cc-pVDZ basis set is a larger set that is suitable for larger molecules. This basis set employs polarization functions to enhance the accuracy of the calculations and includes multiple sets of functions for different atom types, comprising both Gaussian and polarization functions. It is more computationally demanding than both STO-3G and 6-31G but is significantly more accurate.\n",
    "\n",
    "Once the basis set was chosen and the Hamiltonian for the problem at hand is formalized, we need to take it from a form that is suitable for analytical and classical numerical computations to one that can be implemented on a quantum computer. For this task, we must transform the quantum operators of the Hamiltonian into Pauli operators which can be executed in a quantum circuit. \n",
    "\n",
    "Methods have already been developed to address this need, the most popular being the parity mapping, Jordan-Wigner mapping, and Bravyi-Kitaev mapping. All of these three mappings are implemented in Qiskit. \n",
    "\n",
    "In what follows, we will try to compare different basis and different mappings and pick the one which seems better to solve our task."
   ]
  },
  {
   "cell_type": "markdown",
   "metadata": {
    "id": "3o87o3URXp8M"
   },
   "source": [
    "### Hamiltonian Encoding"
   ]
  },
  {
   "cell_type": "code",
   "execution_count": 77,
   "metadata": {
    "id": "hCJ-ADHFYjRc"
   },
   "outputs": [],
   "source": [
    "def hamiltonian_encoding(basis):\n",
    "    value = 1.326\n",
    "    beh2_geo = [[\"H\", [value, 0.0, 0.0]],\n",
    "                    [\"Be\", [0.0, 0.0, 0.0]],\n",
    "                    [\"H\", [-value, 0.0, 0.0]]]\n",
    "\n",
    "    beh2 = Molecule( \n",
    "          geometry=beh2_geo\n",
    "      )\n",
    "\n",
    "    driver = ElectronicStructureMoleculeDriver(beh2, basis=basis, driver_type=ElectronicStructureDriverType.PYSCF) \n",
    "\n",
    "    properties = driver.run()\n",
    "\n",
    "    problem = ElectronicStructureProblem(driver) \n",
    "    _ = problem.second_q_ops()\n",
    "\n",
    "    return problem"
   ]
  },
  {
   "cell_type": "code",
   "execution_count": 78,
   "metadata": {
    "id": "BAZxumMQXy-U"
   },
   "outputs": [],
   "source": [
    "encoders_list = ['Parity', 'ParityWithReduction', 'JordanWigner', 'BravyiKitaev']\n",
    "\n",
    "def map_problem(problem, method: str):\n",
    "    if method == 'Parity' or method == 'ParityWithReduction':\n",
    "        encoder = ParityMapper()\n",
    "    elif method == 'JordanWigner':\n",
    "        encoder = JordanWignerMapper()\n",
    "    elif method == 'BravyiKitaev':\n",
    "        encoder = BravyiKitaevMapper()\n",
    "    else:\n",
    "        raise Exception(\"Unknown mapping function\")\n",
    "    \n",
    "    converter = QubitConverter(encoder, two_qubit_reduction=(method=='ParityWithReduction'))\n",
    "    qubit_op = converter.convert(problem.second_q_ops()[\"ElectronicEnergy\"], num_particles=problem.num_particles)\n",
    "    return converter, qubit_op"
   ]
  },
  {
   "cell_type": "code",
   "execution_count": 79,
   "metadata": {
    "colab": {
     "base_uri": "https://localhost:8080/"
    },
    "id": "8-7FsfZfYDPs",
    "outputId": "c81683f1-d988-4ca1-fbac-7156621ee6ae"
   },
   "outputs": [
    {
     "name": "stdout",
     "output_type": "stream",
     "text": [
      "For STO-3G:\n",
      "-----------\n",
      "\n",
      "The number of spin orbitals is 14 \n",
      "\n",
      "Parity mapping requires 14 qubits and the calculation of 666 terms\n",
      "ParityWithReduction mapping requires 12 qubits and the calculation of 666 terms\n",
      "JordanWigner mapping requires 14 qubits and the calculation of 666 terms\n",
      "BravyiKitaev mapping requires 14 qubits and the calculation of 666 terms\n"
     ]
    }
   ],
   "source": [
    "print(\"For STO-3G:\")\n",
    "print(\"-----------\\n\")\n",
    "problem = hamiltonian_encoding(\"sto3g\")\n",
    "print(\"The number of spin orbitals is\", problem.num_spin_orbitals, '\\n')\n",
    "\n",
    "for encoder in encoders_list:\n",
    "    _, qubit_op_ = map_problem(problem, encoder)\n",
    "    print(f\"{encoder} mapping requires {qubit_op_.num_qubits} qubits and the calculation of {len(qubit_op_.coeffs)} terms\")"
   ]
  },
  {
   "cell_type": "code",
   "execution_count": 80,
   "metadata": {
    "colab": {
     "base_uri": "https://localhost:8080/"
    },
    "id": "qbBS3Q42ZeUc",
    "outputId": "28e02dc7-8a00-4477-929c-5b8dec4e4992"
   },
   "outputs": [
    {
     "name": "stdout",
     "output_type": "stream",
     "text": [
      "For 6-31G:\n",
      "----------\n",
      "\n",
      "The number of spin orbitals is 26 \n",
      "\n",
      "Parity mapping requires 26 qubits and the calculation of 9204 terms\n",
      "ParityWithReduction mapping requires 24 qubits and the calculation of 9204 terms\n",
      "JordanWigner mapping requires 26 qubits and the calculation of 9204 terms\n",
      "BravyiKitaev mapping requires 26 qubits and the calculation of 9204 terms\n"
     ]
    }
   ],
   "source": [
    "print(\"For 6-31G:\")\n",
    "print(\"----------\\n\")\n",
    "problem = hamiltonian_encoding(\"6-31g\")\n",
    "print(\"The number of spin orbitals is\", problem.num_spin_orbitals, '\\n')\n",
    "\n",
    "for encoder in encoders_list:\n",
    "    _, qubit_op_ = map_problem(problem, encoder)\n",
    "    print(f\"{encoder} mapping requires {qubit_op_.num_qubits} qubits and the calculation of {len(qubit_op_.coeffs)} terms\")"
   ]
  },
  {
   "cell_type": "code",
   "execution_count": 151,
   "metadata": {
    "colab": {
     "base_uri": "https://localhost:8080/"
    },
    "id": "HsmnIl9KX3z5",
    "outputId": "3a234b29-606d-43e6-895f-d4577ca2f3c6"
   },
   "outputs": [
    {
     "name": "stdout",
     "output_type": "stream",
     "text": [
      "For CC-PVDZ:\n",
      "------------\n",
      "\n",
      "The number of spin orbitals is 48 \n",
      "\n",
      "Parity mapping requires 48 qubits and the calculation of 102713 terms\n",
      "ParityWithReduction mapping requires 46 qubits and the calculation of 102681 terms\n",
      "JordanWigner mapping requires 48 qubits and the calculation of 102713 terms\n",
      "BravyiKitaev mapping requires 48 qubits and the calculation of 102713 terms\n"
     ]
    }
   ],
   "source": [
    "print(\"For CC-PVDZ:\")\n",
    "print(\"------------\\n\")\n",
    "problem = hamiltonian_encoding(\"ccpvdz\")\n",
    "print(\"The number of spin orbitals is\", problem.num_spin_orbitals, '\\n')\n",
    "\n",
    "for encoder in encoders_list:\n",
    "    _, qubit_op_ = map_problem(problem, encoder)\n",
    "    print(f\"{encoder} mapping requires {qubit_op_.num_qubits} qubits and the calculation of {len(qubit_op_.coeffs)} terms\")"
   ]
  },
  {
   "cell_type": "markdown",
   "metadata": {},
   "source": [
    "<hr/>\n",
    "Even though it may be clear that the STO-3G basis set is the most suitable for the BeH2 molecule, the combination of the basis set and the mapping may not be as clear. For this, we provide a few numbers on the Hamiltonians that different sets with different mappings give in Qiskit: \n",
    "\n",
    "1. **STO-3G** \n",
    "    - The number of spin orbitals is 14 (and thus it requires 14 qubits)  \n",
    "    - Parity mapping requires 14 qubits and the calculation of 666 terms \n",
    "    - ParityWithReduction mapping requires 12 qubits and the calculation of 666 terms \n",
    "    - JordanWigner mapping requires 14 qubits and the calculation of 666 terms \n",
    "    - BravyiKitaev mapping requires 14 qubits and the calculation of 666 terms \n",
    "1. **6-31G** \n",
    "    - The number of spin orbitals is 26  (and thus it requires 26 qubits)  \n",
    "    - Parity mapping requires 26 qubits and the calculation of 9204 terms \n",
    "    - ParityWithReduction mapping requires 24 qubits and the calculation of 9204 terms \n",
    "    - JordanWigner mapping requires 26 qubits and the calculation of 9204 terms \n",
    "    - BravyiKitaev mapping requires 26 qubits and the calculation of 9204 terms \n",
    "1. **cc-pVDZ** \n",
    "    - The number of spin orbitals is 48 (and thus it requires 48 qubits)  \n",
    "    - Parity mapping requires 48 qubits and the calculation of 102713 terms\n",
    "    - ParityWithReduction mapping requires 46 qubits and the calculation of 102681 terms\n",
    "    - JordanWigner mapping requires 48 qubits and the calculation of 102713 terms\n",
    "    - BravyiKitaev mapping requires 48 qubits and the calculation of 102713 terms\n",
    "\n",
    "It is now obvious that the STO-3G basis set with a parity mapping, in addition to the reduction of 2 qubits is what we need for BeH2, with the devices that we have, or that we can simulate. "
   ]
  },
  {
   "cell_type": "markdown",
   "metadata": {},
   "source": [
    "### Ansatz"
   ]
  },
  {
   "cell_type": "markdown",
   "metadata": {},
   "source": [
    "The variational method in quantum mechanics, and by extension the variational quantum eigensolver, relies on a trial quantum state to be the, or close to the exact solution for a given Hamiltonian. The Ritz theorem ensures that for any arbitrary trial quantum state (or wavefunction), the expectation value of the Hamiltonian with respect to the trial state is always greater or equal to the ground state energy of that Hamiltonian, with closer states to the actual Hamiltonian ground state giving closer expectation values to the ground state energy. Therefore, in the VQE, the trial state, called the ansatz, must be as physically accurate as possible to obtain precise results. However, these types of states are usually complex when expressed as a quantum circuit. \n",
    "\n",
    "We are now faced with the problem of choosing between an ansatz that is theoretically more accurate, or one that is easier to implement, and less susceptible to noise during the computation. In quantum chemistry, the choice is usually between the UCCSD ansatz that is chemically inspired, and a hardware efficient ansatz that considers the specificities of current quantum computers. \n",
    "\n",
    "In the UCCSD ansatz, the electronic wavefunction of the molecule is expressed as a linear combination of single and double excitations of the reference wavefunction, which is typically the Hartree-Fock wavefunction. The amplitudes of these excitations are then optimized to minimize the molecule's electronic energy. \n",
    "\n",
    "The hardware efficient ansatz is a type of ansatz that is designed to be computationally efficient and suitable for implementation on near-term quantum devices with limited connectivity and gate fidelities. The quantum circuit of such ansätze is typically composed of alternating layers of single-qubit rotations and two-qubit interactions.\n",
    "\n",
    "In what follows, we will compare the ansatze depth and the number of 2 qubit gates that it requires."
   ]
  },
  {
   "cell_type": "code",
   "execution_count": 81,
   "metadata": {
    "colab": {
     "base_uri": "https://localhost:8080/"
    },
    "id": "6AuCn6foZ-1e",
    "outputId": "6882cf3f-7ed6-443c-e477-4371b8bd6809"
   },
   "outputs": [],
   "source": [
    "problem = hamiltonian_encoding(\"sto3g\")\n",
    "converter, qubit_op = map_problem(problem, 'ParityWithReduction')"
   ]
  },
  {
   "cell_type": "code",
   "execution_count": 82,
   "metadata": {
    "id": "RIzjUYXScgGH"
   },
   "outputs": [],
   "source": [
    "uccsd_raw = UCC(\n",
    "    qubit_converter=converter,\n",
    "    num_particles=problem.num_particles, \n",
    "    num_spin_orbitals=problem.num_spin_orbitals,\n",
    "    excitations='sd'\n",
    ")"
   ]
  },
  {
   "cell_type": "code",
   "execution_count": 83,
   "metadata": {},
   "outputs": [],
   "source": [
    "transpiled = compiler.transpile(uccsd_raw, FakeGuadalupeV2(), optimization_level=2)"
   ]
  },
  {
   "cell_type": "code",
   "execution_count": 84,
   "metadata": {
    "colab": {
     "base_uri": "https://localhost:8080/"
    },
    "id": "Po_zYrPfdbOh",
    "outputId": "24d109e5-1da4-4c21-9990-3661291a7836"
   },
   "outputs": [
    {
     "data": {
      "text/plain": [
       "27618"
      ]
     },
     "execution_count": 84,
     "metadata": {},
     "output_type": "execute_result"
    }
   ],
   "source": [
    "transpiled.depth()"
   ]
  },
  {
   "cell_type": "code",
   "execution_count": 85,
   "metadata": {
    "id": "gEyRI9uJeTYr"
   },
   "outputs": [],
   "source": [
    "ops = transpiled.count_ops()"
   ]
  },
  {
   "cell_type": "code",
   "execution_count": 86,
   "metadata": {
    "colab": {
     "base_uri": "https://localhost:8080/"
    },
    "id": "_drcDt9Qe3to",
    "outputId": "c82ca85e-e96e-4c63-bdc5-6433df4f3a14"
   },
   "outputs": [
    {
     "name": "stdout",
     "output_type": "stream",
     "text": [
      "25729\n"
     ]
    }
   ],
   "source": [
    "print(ops.get('cx'))"
   ]
  },
  {
   "cell_type": "code",
   "execution_count": 87,
   "metadata": {
    "id": "QzlU5v5KcsOc"
   },
   "outputs": [],
   "source": [
    "hea_raw =  EfficientSU2(qubit_op.num_qubits, reps=1, entanglement='circular')"
   ]
  },
  {
   "cell_type": "code",
   "execution_count": 88,
   "metadata": {},
   "outputs": [],
   "source": [
    "transpiled = compiler.transpile(hea_raw, FakeGuadalupeV2(), optimization_level=2)"
   ]
  },
  {
   "cell_type": "code",
   "execution_count": 89,
   "metadata": {
    "colab": {
     "base_uri": "https://localhost:8080/"
    },
    "id": "I_oGWhlZczia",
    "outputId": "a71165b1-254d-4f05-e66a-05d6e82eb765"
   },
   "outputs": [
    {
     "data": {
      "text/plain": [
       "24"
      ]
     },
     "execution_count": 89,
     "metadata": {},
     "output_type": "execute_result"
    }
   ],
   "source": [
    "transpiled.depth()"
   ]
  },
  {
   "cell_type": "code",
   "execution_count": 90,
   "metadata": {
    "id": "OFNk5coJc_qO"
   },
   "outputs": [],
   "source": [
    "ops = transpiled.count_ops()"
   ]
  },
  {
   "cell_type": "code",
   "execution_count": 91,
   "metadata": {
    "colab": {
     "base_uri": "https://localhost:8080/"
    },
    "id": "r345JYX7fO_I",
    "outputId": "02cc69f8-1efa-41bb-b425-22c2e610265d"
   },
   "outputs": [
    {
     "name": "stdout",
     "output_type": "stream",
     "text": [
      "12\n"
     ]
    }
   ],
   "source": [
    "print(ops.get('cx'))"
   ]
  },
  {
   "cell_type": "markdown",
   "metadata": {},
   "source": [
    "We can see that HEA is way lighter than UCCSD and that we cannot hope to execute the UCCSD ansatze on current devices and obtain a meaningful result (due to the excessive depth and the excessive number of two qubits gate)."
   ]
  },
  {
   "cell_type": "markdown",
   "metadata": {},
   "source": [
    "Finally, we need to choose an optimizer for our hybrid task. For this one, we will follow [Kandala et al](https://www.nature.com/articles/nature23879). the SPSA optimizer because it requires less number of jobs and is more adapted to noisy problems. SPSA requires 50 jobs in the calibration phase and then it optimizes with 3 jobs for each iteration."
   ]
  },
  {
   "cell_type": "markdown",
   "metadata": {},
   "source": [
    "Sadly, we couldn't run the code for the problem as is with Parity encoding and HAE due to time restrictions. During our trials, we observed that each job takes approximatively 5m50s to finish and thus to perform a full VQE run with 300 iterations for example we would need 92+ hours which is approximately 4 full days:"
   ]
  },
  {
   "cell_type": "markdown",
   "metadata": {},
   "source": [
    "<img src=\"images/ibmq_guadalupe_time.jpg\" alt=\"Time it took for a single job to execute on IBMQ Guadalupe\" />"
   ]
  },
  {
   "cell_type": "code",
   "execution_count": 168,
   "metadata": {
    "colab": {
     "base_uri": "https://localhost:8080/"
    },
    "id": "jf2AM82DfqAA",
    "outputId": "04751bad-dd9f-4e39-d338-8fb86a44efaf"
   },
   "outputs": [
    {
     "name": "stdout",
     "output_type": "stream",
     "text": [
      "Estimated time to run the full VQE iteration is 333450 seconds\n"
     ]
    }
   ],
   "source": [
    "# For 300 iterations with SPSA, it requires (50 jobs calibration and 3 jobs per iteration)\n",
    "time_spent_per_job = 5 * 60 + 51 # seconds from 2 data point\n",
    "nb_of_jobs = 300 * 3 + 50\n",
    "\n",
    "print(f\"Estimated time to run the full VQE iteration is {time_spent_per_job * nb_of_jobs} seconds\")\n",
    "\n",
    "# Which is more than 92 hours (approximately 4 full days)"
   ]
  },
  {
   "cell_type": "markdown",
   "metadata": {
    "id": "MNz_yfO8g9so"
   },
   "source": [
    "## Simplifying the problem"
   ]
  },
  {
   "cell_type": "markdown",
   "metadata": {},
   "source": [
    "To simplify the problem and be able to run it and get a meaningful result in a reasonable time, we will assume that inner spin orbitals are full and frozen, and do not contribute significantly to the dynamics of the molecule."
   ]
  },
  {
   "cell_type": "code",
   "execution_count": 153,
   "metadata": {
    "id": "P8_B8VJSgGcj"
   },
   "outputs": [],
   "source": [
    "def hamiltonian_encoding_simplified(basis):\n",
    "    value = 1.326\n",
    "    beh2_geo = [[\"H\", [value, 0.0, 0.0]],\n",
    "                [\"Be\", [0.0, 0.0, 0.0]],\n",
    "                [\"H\", [-value, 0.0, 0.0]]]\n",
    "\n",
    "    beh2 = Molecule( \n",
    "      geometry=beh2_geo\n",
    "    )\n",
    "\n",
    "    driver = ElectronicStructureMoleculeDriver(beh2, basis=basis, driver_type=ElectronicStructureDriverType.PYSCF) \n",
    "\n",
    "    properties = driver.run()\n",
    "\n",
    "    transformer_1 = ActiveSpaceTransformer(\n",
    "    num_electrons=2,\n",
    "    num_molecular_orbitals=3\n",
    "    )\n",
    "\n",
    "    problem = ElectronicStructureProblem(driver, transformers=[transformer_1]) \n",
    "    _ = problem.second_q_ops()\n",
    "\n",
    "    return problem"
   ]
  },
  {
   "cell_type": "code",
   "execution_count": 154,
   "metadata": {
    "colab": {
     "base_uri": "https://localhost:8080/"
    },
    "id": "WNB3OYHGhZYd",
    "outputId": "8ec5feba-8c7e-4f59-f408-3c0989bce38e"
   },
   "outputs": [
    {
     "name": "stdout",
     "output_type": "stream",
     "text": [
      "For STO-3G:\n",
      "-----------\n",
      "\n",
      "\n",
      "The number of spin orbitals is 6 \n",
      "\n",
      "Parity mapping requires 6 qubits and the calculation of 34 terms\n",
      "ParityWithReduction mapping requires 4 qubits and the calculation of 28 terms\n",
      "JordanWigner mapping requires 6 qubits and the calculation of 34 terms\n",
      "BravyiKitaev mapping requires 6 qubits and the calculation of 34 terms\n"
     ]
    }
   ],
   "source": [
    "print(\"For STO-3G:\")\n",
    "print(\"-----------\\n\")\n",
    "problem = hamiltonian_encoding_simplified(\"sto3g\")\n",
    "print()\n",
    "print(\"The number of spin orbitals is\", problem.num_spin_orbitals, '\\n')\n",
    "\n",
    "for encoder in encoders_list:\n",
    "    _, qubit_op_ = map_problem(problem, encoder)\n",
    "    print(f\"{encoder} mapping requires {qubit_op_.num_qubits} qubits and the calculation of {len(qubit_op_.coeffs)} terms\")"
   ]
  },
  {
   "cell_type": "markdown",
   "metadata": {},
   "source": [
    "As we can see above, we end up with a Hamiltonian that can be encoded in 4 qubits, and having only 28 terms, if we employ the ParityWithReduction mapping and the STO-3G basis set."
   ]
  },
  {
   "cell_type": "markdown",
   "metadata": {},
   "source": [
    "### Choosing the ansatz\n",
    "\n",
    "We will choose between 2 possible ansäte, namely the UCCSD and the EfficientSU2."
   ]
  },
  {
   "cell_type": "markdown",
   "metadata": {},
   "source": [
    "#### UCCSD"
   ]
  },
  {
   "cell_type": "code",
   "execution_count": 155,
   "metadata": {
    "colab": {
     "base_uri": "https://localhost:8080/"
    },
    "id": "V0SmGf6WiSs9",
    "outputId": "12c7a0b8-3c34-43a3-8f76-4f3a108cacee"
   },
   "outputs": [],
   "source": [
    "problem = hamiltonian_encoding_simplified(\"sto3g\")\n",
    "converter, qubit_op = map_problem(problem, 'ParityWithReduction')"
   ]
  },
  {
   "cell_type": "code",
   "execution_count": 156,
   "metadata": {
    "id": "dbJb1ZjKheLz"
   },
   "outputs": [],
   "source": [
    "uccsd_simplified = UCC(\n",
    "    qubit_converter=converter,\n",
    "    num_particles=problem.num_particles, \n",
    "    num_spin_orbitals=problem.num_spin_orbitals,\n",
    "    excitations='sd'\n",
    ")"
   ]
  },
  {
   "cell_type": "code",
   "execution_count": 157,
   "metadata": {},
   "outputs": [],
   "source": [
    "transpiled = compiler.transpile(uccsd_simplified, FakeGuadalupeV2(), optimization_level=2)"
   ]
  },
  {
   "cell_type": "code",
   "execution_count": 158,
   "metadata": {
    "colab": {
     "base_uri": "https://localhost:8080/"
    },
    "id": "WXgTR4EXicQM",
    "outputId": "ed8d63e2-290a-4c10-83b2-b7f554a58bed"
   },
   "outputs": [
    {
     "data": {
      "text/plain": [
       "270"
      ]
     },
     "execution_count": 158,
     "metadata": {},
     "output_type": "execute_result"
    }
   ],
   "source": [
    "transpiled.depth()"
   ]
  },
  {
   "cell_type": "markdown",
   "metadata": {},
   "source": [
    "For the chemically inspired UCCSD ansatz, we get a trial state circuit with a depth of 270."
   ]
  },
  {
   "cell_type": "code",
   "execution_count": 159,
   "metadata": {
    "id": "7syBA1s-ijE5"
   },
   "outputs": [],
   "source": [
    "ops = transpiled.count_ops()"
   ]
  },
  {
   "cell_type": "code",
   "execution_count": 160,
   "metadata": {
    "colab": {
     "base_uri": "https://localhost:8080/"
    },
    "id": "fBHtYpiAik9R",
    "outputId": "b258ebb2-1227-4200-ff6b-9f7c04cad2f3"
   },
   "outputs": [
    {
     "name": "stdout",
     "output_type": "stream",
     "text": [
      "181\n"
     ]
    }
   ],
   "source": [
    "print(ops.get('cx'))"
   ]
  },
  {
   "cell_type": "markdown",
   "metadata": {},
   "source": [
    "Just as important as the depth, the number of 2-qubit gates (CNOTs in this case) is 181!"
   ]
  },
  {
   "cell_type": "markdown",
   "metadata": {},
   "source": [
    "#### EfficientSU2"
   ]
  },
  {
   "cell_type": "code",
   "execution_count": 161,
   "metadata": {
    "id": "Dp-i7A1eicMw"
   },
   "outputs": [],
   "source": [
    "hea_simplified =  EfficientSU2(qubit_op.num_qubits, reps=1, entanglement='circular')"
   ]
  },
  {
   "cell_type": "code",
   "execution_count": 162,
   "metadata": {},
   "outputs": [],
   "source": [
    "transpiled = compiler.transpile(hea_simplified, FakeGuadalupeV2(), optimization_level=2)"
   ]
  },
  {
   "cell_type": "code",
   "execution_count": 163,
   "metadata": {
    "colab": {
     "base_uri": "https://localhost:8080/"
    },
    "id": "SaPCJolxicKO",
    "outputId": "36c84efb-8848-4fbe-d791-697827bb2ebe"
   },
   "outputs": [
    {
     "data": {
      "text/plain": [
       "25"
      ]
     },
     "execution_count": 163,
     "metadata": {},
     "output_type": "execute_result"
    }
   ],
   "source": [
    "transpiled.depth()"
   ]
  },
  {
   "cell_type": "markdown",
   "metadata": {},
   "source": [
    "Since the EfficientSU2 ansatz is hardware efficient (as the name implies), we only get a depth of 25!"
   ]
  },
  {
   "cell_type": "code",
   "execution_count": 164,
   "metadata": {
    "id": "kCIc8VxeicHp"
   },
   "outputs": [],
   "source": [
    "ops = transpiled.count_ops()"
   ]
  },
  {
   "cell_type": "code",
   "execution_count": 165,
   "metadata": {
    "colab": {
     "base_uri": "https://localhost:8080/"
    },
    "id": "uJSIQwGrio2x",
    "outputId": "bdfa43a8-f552-4a15-f6c1-46be8806068c"
   },
   "outputs": [
    {
     "name": "stdout",
     "output_type": "stream",
     "text": [
      "7\n"
     ]
    }
   ],
   "source": [
    "print(ops.get('cx'))"
   ]
  },
  {
   "cell_type": "markdown",
   "metadata": {},
   "source": [
    "And even better, we only need to use 7 CNOTs."
   ]
  },
  {
   "cell_type": "markdown",
   "metadata": {
    "id": "zzHkWIk1keZD"
   },
   "source": [
    "## Executing"
   ]
  },
  {
   "cell_type": "markdown",
   "metadata": {},
   "source": [
    "In the folowing sections, we will compare different VQEs, either simulated or on a real IBMQ device, for the $BeH_2$ molecule.\n",
    "\n",
    "For convenience, we have saved the data of all of our simulations and real device results, which we have pre-loaded in the notebook."
   ]
  },
  {
   "cell_type": "markdown",
   "metadata": {
    "id": "sCImjEHEjlpV"
   },
   "source": [
    "### Ideal device\n",
    "Here we simulate an ideal quantum device, unaffected by noise, on which we execute a VQE circuit to compute the ground energy of $BeH2$.<br>\n",
    "We will use the QASM Simulator provided in Qiskit."
   ]
  },
  {
   "cell_type": "code",
   "execution_count": 106,
   "metadata": {
    "id": "FId_v-8DlyFS"
   },
   "outputs": [],
   "source": [
    "from qiskit import Aer\n",
    "\n",
    "backend_ideal = Aer.get_backend(\"qasm_simulator\")\n",
    "options = {}"
   ]
  },
  {
   "cell_type": "code",
   "execution_count": 107,
   "metadata": {
    "id": "9scpxU5Pk6-y"
   },
   "outputs": [],
   "source": [
    "def train_local(problem, observables, ansatz, backend, options, initial_point=None):\n",
    "    estimator = BackendEstimator(backend=backend, options=options)\n",
    "    energies = []\n",
    "    param_history = []\n",
    "    job_list = []\n",
    "    prev_jobs = 0\n",
    "    last_time = time()\n",
    "    nb_iter = 0\n",
    "    \n",
    "    def evaluate_expectation(x):\n",
    "        x = list(x)\n",
    "        job = estimator.run(circuits=[ansatz], parameter_values=[x], observables=[observables]).result()\n",
    "        results = job.values[0]\n",
    "        job_list.append(job)\n",
    "    \n",
    "        return np.real(results)\n",
    "\n",
    "    def callback(x, fx, ax, tx, nx):\n",
    "        nonlocal prev_jobs, last_time, nb_iter\n",
    "        \n",
    "        sol = MinimumEigensolverResult()\n",
    "        sol.eigenvalue = ax\n",
    "        energies.append(np.real(problem.interpret(sol).total_energies[0]))\n",
    "        param_history.append(fx)\n",
    "        print(f\"[{len(energies)}] Current estimate: {energies[-1]:.5f}  Ha\")\n",
    "        prev_jobs = len(job_list)\n",
    "        last_time = time() \n",
    "\n",
    "    if initial_point is None:\n",
    "        initial_point = np.random.random(ansatz.num_parameters)\n",
    "\n",
    "    optimizer =  SPSA(maxiter=200, callback=callback)\n",
    "    result =  optimizer.minimize(evaluate_expectation, x0=initial_point)\n",
    "   \n",
    "    return energies, param_history"
   ]
  },
  {
   "cell_type": "markdown",
   "metadata": {
    "id": "soaCwUNfkqhx"
   },
   "source": [
    "#### UCCSD"
   ]
  },
  {
   "cell_type": "code",
   "execution_count": 108,
   "metadata": {
    "colab": {
     "base_uri": "https://localhost:8080/"
    },
    "id": "gTcSzrZGl-Jp",
    "outputId": "9c98a929-5496-47ce-e3b1-ae4ec7a06c8c"
   },
   "outputs": [
    {
     "name": "stdout",
     "output_type": "stream",
     "text": [
      "[1] Current estimate: -15.23220  Ha\n",
      "[2] Current estimate: -15.25714  Ha\n",
      "[3] Current estimate: -15.23936  Ha\n",
      "[4] Current estimate: -15.28500  Ha\n",
      "[5] Current estimate: -15.26953  Ha\n",
      "[6] Current estimate: -15.27163  Ha\n",
      "[7] Current estimate: -15.31484  Ha\n",
      "[8] Current estimate: -15.28220  Ha\n",
      "[9] Current estimate: -15.29898  Ha\n",
      "[10] Current estimate: -15.28378  Ha\n",
      "[11] Current estimate: -15.32111  Ha\n",
      "[12] Current estimate: -15.31617  Ha\n",
      "[13] Current estimate: -15.29227  Ha\n",
      "[14] Current estimate: -15.30578  Ha\n",
      "[15] Current estimate: -15.30962  Ha\n",
      "[16] Current estimate: -15.33568  Ha\n",
      "[17] Current estimate: -15.36475  Ha\n",
      "[18] Current estimate: -15.37106  Ha\n",
      "[19] Current estimate: -15.42630  Ha\n",
      "[20] Current estimate: -15.49989  Ha\n",
      "[21] Current estimate: -15.38590  Ha\n",
      "[22] Current estimate: -15.42190  Ha\n",
      "[23] Current estimate: -15.37659  Ha\n",
      "[24] Current estimate: -15.39687  Ha\n",
      "[25] Current estimate: -15.36516  Ha\n",
      "[26] Current estimate: -15.44019  Ha\n",
      "[27] Current estimate: -15.43517  Ha\n",
      "[28] Current estimate: -15.44331  Ha\n",
      "[29] Current estimate: -15.41642  Ha\n",
      "[30] Current estimate: -15.44940  Ha\n",
      "[31] Current estimate: -15.42259  Ha\n",
      "[32] Current estimate: -15.44166  Ha\n",
      "[33] Current estimate: -15.39907  Ha\n",
      "[34] Current estimate: -15.48367  Ha\n",
      "[35] Current estimate: -15.49568  Ha\n",
      "[36] Current estimate: -15.50994  Ha\n",
      "[37] Current estimate: -15.51749  Ha\n",
      "[38] Current estimate: -15.48467  Ha\n",
      "[39] Current estimate: -15.47851  Ha\n",
      "[40] Current estimate: -15.50032  Ha\n",
      "[41] Current estimate: -15.47651  Ha\n",
      "[42] Current estimate: -15.43207  Ha\n",
      "[43] Current estimate: -15.49693  Ha\n",
      "[44] Current estimate: -15.47997  Ha\n",
      "[45] Current estimate: -15.49843  Ha\n",
      "[46] Current estimate: -15.51788  Ha\n",
      "[47] Current estimate: -15.49267  Ha\n",
      "[48] Current estimate: -15.50486  Ha\n",
      "[49] Current estimate: -15.48430  Ha\n",
      "[50] Current estimate: -15.50067  Ha\n",
      "[51] Current estimate: -15.51774  Ha\n",
      "[52] Current estimate: -15.45794  Ha\n",
      "[53] Current estimate: -15.52167  Ha\n",
      "[54] Current estimate: -15.51275  Ha\n",
      "[55] Current estimate: -15.53014  Ha\n",
      "[56] Current estimate: -15.53603  Ha\n",
      "[57] Current estimate: -15.53994  Ha\n",
      "[58] Current estimate: -15.52314  Ha\n",
      "[59] Current estimate: -15.52074  Ha\n",
      "[60] Current estimate: -15.51685  Ha\n",
      "[61] Current estimate: -15.54265  Ha\n",
      "[62] Current estimate: -15.52862  Ha\n",
      "[63] Current estimate: -15.54055  Ha\n",
      "[64] Current estimate: -15.54686  Ha\n",
      "[65] Current estimate: -15.55140  Ha\n",
      "[66] Current estimate: -15.54917  Ha\n",
      "[67] Current estimate: -15.55865  Ha\n",
      "[68] Current estimate: -15.55651  Ha\n",
      "[69] Current estimate: -15.55659  Ha\n",
      "[70] Current estimate: -15.56104  Ha\n",
      "[71] Current estimate: -15.55949  Ha\n",
      "[72] Current estimate: -15.55517  Ha\n",
      "[73] Current estimate: -15.55410  Ha\n",
      "[74] Current estimate: -15.55769  Ha\n",
      "[75] Current estimate: -15.55596  Ha\n",
      "[76] Current estimate: -15.55833  Ha\n",
      "[77] Current estimate: -15.56027  Ha\n",
      "[78] Current estimate: -15.55600  Ha\n",
      "[79] Current estimate: -15.55543  Ha\n",
      "[80] Current estimate: -15.55909  Ha\n",
      "[81] Current estimate: -15.56211  Ha\n",
      "[82] Current estimate: -15.56161  Ha\n",
      "[83] Current estimate: -15.56137  Ha\n",
      "[84] Current estimate: -15.56353  Ha\n",
      "[85] Current estimate: -15.55933  Ha\n",
      "[86] Current estimate: -15.55893  Ha\n",
      "[87] Current estimate: -15.55530  Ha\n",
      "[88] Current estimate: -15.55978  Ha\n",
      "[89] Current estimate: -15.55647  Ha\n",
      "[90] Current estimate: -15.56066  Ha\n",
      "[91] Current estimate: -15.56403  Ha\n",
      "[92] Current estimate: -15.56096  Ha\n",
      "[93] Current estimate: -15.55799  Ha\n",
      "[94] Current estimate: -15.55516  Ha\n",
      "[95] Current estimate: -15.56085  Ha\n",
      "[96] Current estimate: -15.55984  Ha\n",
      "[97] Current estimate: -15.56077  Ha\n",
      "[98] Current estimate: -15.55858  Ha\n",
      "[99] Current estimate: -15.55967  Ha\n",
      "[100] Current estimate: -15.55707  Ha\n",
      "[101] Current estimate: -15.55878  Ha\n",
      "[102] Current estimate: -15.55708  Ha\n",
      "[103] Current estimate: -15.56173  Ha\n",
      "[104] Current estimate: -15.55955  Ha\n",
      "[105] Current estimate: -15.56020  Ha\n",
      "[106] Current estimate: -15.56177  Ha\n",
      "[107] Current estimate: -15.55912  Ha\n",
      "[108] Current estimate: -15.56300  Ha\n",
      "[109] Current estimate: -15.56436  Ha\n",
      "[110] Current estimate: -15.55695  Ha\n",
      "[111] Current estimate: -15.55778  Ha\n",
      "[112] Current estimate: -15.55974  Ha\n",
      "[113] Current estimate: -15.56008  Ha\n",
      "[114] Current estimate: -15.55838  Ha\n",
      "[115] Current estimate: -15.55751  Ha\n",
      "[116] Current estimate: -15.55763  Ha\n",
      "[117] Current estimate: -15.55823  Ha\n",
      "[118] Current estimate: -15.56138  Ha\n",
      "[119] Current estimate: -15.55929  Ha\n",
      "[120] Current estimate: -15.56205  Ha\n",
      "[121] Current estimate: -15.56032  Ha\n",
      "[122] Current estimate: -15.56276  Ha\n",
      "[123] Current estimate: -15.55431  Ha\n",
      "[124] Current estimate: -15.55860  Ha\n",
      "[125] Current estimate: -15.55853  Ha\n",
      "[126] Current estimate: -15.56064  Ha\n",
      "[127] Current estimate: -15.56140  Ha\n",
      "[128] Current estimate: -15.55782  Ha\n",
      "[129] Current estimate: -15.55965  Ha\n",
      "[130] Current estimate: -15.55774  Ha\n",
      "[131] Current estimate: -15.55949  Ha\n",
      "[132] Current estimate: -15.55708  Ha\n",
      "[133] Current estimate: -15.56098  Ha\n",
      "[134] Current estimate: -15.56159  Ha\n",
      "[135] Current estimate: -15.56168  Ha\n",
      "[136] Current estimate: -15.55938  Ha\n",
      "[137] Current estimate: -15.55795  Ha\n",
      "[138] Current estimate: -15.56011  Ha\n",
      "[139] Current estimate: -15.56015  Ha\n",
      "[140] Current estimate: -15.55576  Ha\n",
      "[141] Current estimate: -15.55909  Ha\n",
      "[142] Current estimate: -15.55937  Ha\n",
      "[143] Current estimate: -15.55856  Ha\n",
      "[144] Current estimate: -15.56063  Ha\n",
      "[145] Current estimate: -15.56205  Ha\n",
      "[146] Current estimate: -15.56084  Ha\n",
      "[147] Current estimate: -15.56130  Ha\n",
      "[148] Current estimate: -15.56084  Ha\n",
      "[149] Current estimate: -15.55697  Ha\n",
      "[150] Current estimate: -15.55959  Ha\n",
      "[151] Current estimate: -15.56097  Ha\n",
      "[152] Current estimate: -15.56076  Ha\n",
      "[153] Current estimate: -15.56100  Ha\n",
      "[154] Current estimate: -15.55800  Ha\n",
      "[155] Current estimate: -15.56227  Ha\n",
      "[156] Current estimate: -15.55880  Ha\n",
      "[157] Current estimate: -15.55771  Ha\n",
      "[158] Current estimate: -15.55749  Ha\n",
      "[159] Current estimate: -15.55956  Ha\n",
      "[160] Current estimate: -15.56057  Ha\n",
      "[161] Current estimate: -15.56124  Ha\n",
      "[162] Current estimate: -15.55910  Ha\n",
      "[163] Current estimate: -15.55954  Ha\n",
      "[164] Current estimate: -15.55909  Ha\n",
      "[165] Current estimate: -15.55969  Ha\n",
      "[166] Current estimate: -15.56008  Ha\n",
      "[167] Current estimate: -15.56016  Ha\n",
      "[168] Current estimate: -15.56047  Ha\n",
      "[169] Current estimate: -15.55922  Ha\n",
      "[170] Current estimate: -15.56144  Ha\n",
      "[171] Current estimate: -15.55875  Ha\n",
      "[172] Current estimate: -15.56019  Ha\n",
      "[173] Current estimate: -15.56054  Ha\n",
      "[174] Current estimate: -15.56007  Ha\n",
      "[175] Current estimate: -15.55673  Ha\n",
      "[176] Current estimate: -15.55982  Ha\n",
      "[177] Current estimate: -15.55962  Ha\n",
      "[178] Current estimate: -15.56052  Ha\n",
      "[179] Current estimate: -15.55984  Ha\n",
      "[180] Current estimate: -15.55796  Ha\n",
      "[181] Current estimate: -15.56246  Ha\n",
      "[182] Current estimate: -15.56078  Ha\n",
      "[183] Current estimate: -15.55958  Ha\n",
      "[184] Current estimate: -15.56161  Ha\n",
      "[185] Current estimate: -15.56051  Ha\n",
      "[186] Current estimate: -15.56203  Ha\n",
      "[187] Current estimate: -15.56078  Ha\n",
      "[188] Current estimate: -15.55683  Ha\n",
      "[189] Current estimate: -15.56076  Ha\n",
      "[190] Current estimate: -15.55977  Ha\n",
      "[191] Current estimate: -15.56064  Ha\n",
      "[192] Current estimate: -15.56099  Ha\n",
      "[193] Current estimate: -15.56010  Ha\n",
      "[194] Current estimate: -15.56148  Ha\n",
      "[195] Current estimate: -15.55892  Ha\n",
      "[196] Current estimate: -15.56057  Ha\n",
      "[197] Current estimate: -15.55961  Ha\n",
      "[198] Current estimate: -15.56036  Ha\n",
      "[199] Current estimate: -15.56053  Ha\n",
      "[200] Current estimate: -15.55916  Ha\n"
     ]
    }
   ],
   "source": [
    "# energies_ideal_uccsd, params_ideal_uccsd = train_local(problem, qubit_op, uccsd_simplified, backend_ideal, options, initial_point=None)"
   ]
  },
  {
   "cell_type": "code",
   "execution_count": 116,
   "metadata": {},
   "outputs": [],
   "source": [
    "# np.save(Path.cwd() / \"data\" / \"energies_ideal_uccsd\", np.array(energies_ideal_uccsd))"
   ]
  },
  {
   "cell_type": "code",
   "execution_count": 117,
   "metadata": {},
   "outputs": [],
   "source": [
    "energies_ideal_uccsd = np.load(Path.cwd() / \"data\" / \"energies_ideal_uccsd.npy\")"
   ]
  },
  {
   "cell_type": "markdown",
   "metadata": {
    "id": "j_6Nm5ThkqXZ"
   },
   "source": [
    "#### HAE"
   ]
  },
  {
   "cell_type": "code",
   "execution_count": 118,
   "metadata": {
    "colab": {
     "base_uri": "https://localhost:8080/"
    },
    "id": "BRfqKJXUjuqG",
    "outputId": "034a01bd-78fe-4945-b0f7-6dd342dabd09"
   },
   "outputs": [
    {
     "name": "stdout",
     "output_type": "stream",
     "text": [
      "[1] Current estimate: -14.53228  Ha\n",
      "[2] Current estimate: -14.65635  Ha\n",
      "[3] Current estimate: -14.98543  Ha\n",
      "[4] Current estimate: -15.29318  Ha\n",
      "[5] Current estimate: -15.23882  Ha\n",
      "[6] Current estimate: -15.24696  Ha\n",
      "[7] Current estimate: -15.24926  Ha\n",
      "[8] Current estimate: -15.27740  Ha\n",
      "[9] Current estimate: -15.27777  Ha\n",
      "[10] Current estimate: -15.29332  Ha\n",
      "[11] Current estimate: -15.27031  Ha\n",
      "[12] Current estimate: -15.34318  Ha\n",
      "[13] Current estimate: -15.35112  Ha\n",
      "[14] Current estimate: -15.37912  Ha\n",
      "[15] Current estimate: -15.39204  Ha\n",
      "[16] Current estimate: -15.40048  Ha\n",
      "[17] Current estimate: -15.42656  Ha\n",
      "[18] Current estimate: -15.41198  Ha\n",
      "[19] Current estimate: -15.50244  Ha\n",
      "[20] Current estimate: -15.51862  Ha\n",
      "[21] Current estimate: -15.52382  Ha\n",
      "[22] Current estimate: -15.52040  Ha\n",
      "[23] Current estimate: -15.53541  Ha\n",
      "[24] Current estimate: -15.54757  Ha\n",
      "[25] Current estimate: -15.54498  Ha\n",
      "[26] Current estimate: -15.55191  Ha\n",
      "[27] Current estimate: -15.55236  Ha\n",
      "[28] Current estimate: -15.54451  Ha\n",
      "[29] Current estimate: -15.55384  Ha\n",
      "[30] Current estimate: -15.55217  Ha\n",
      "[31] Current estimate: -15.55244  Ha\n",
      "[32] Current estimate: -15.55407  Ha\n",
      "[33] Current estimate: -15.55082  Ha\n",
      "[34] Current estimate: -15.56220  Ha\n",
      "[35] Current estimate: -15.55254  Ha\n",
      "[36] Current estimate: -15.55519  Ha\n",
      "[37] Current estimate: -15.55383  Ha\n",
      "[38] Current estimate: -15.55686  Ha\n",
      "[39] Current estimate: -15.55246  Ha\n",
      "[40] Current estimate: -15.55585  Ha\n",
      "[41] Current estimate: -15.55428  Ha\n",
      "[42] Current estimate: -15.55367  Ha\n",
      "[43] Current estimate: -15.55424  Ha\n",
      "[44] Current estimate: -15.55779  Ha\n",
      "[45] Current estimate: -15.55293  Ha\n",
      "[46] Current estimate: -15.55464  Ha\n",
      "[47] Current estimate: -15.55398  Ha\n",
      "[48] Current estimate: -15.55412  Ha\n",
      "[49] Current estimate: -15.55500  Ha\n",
      "[50] Current estimate: -15.55724  Ha\n",
      "[51] Current estimate: -15.55844  Ha\n",
      "[52] Current estimate: -15.55501  Ha\n",
      "[53] Current estimate: -15.55789  Ha\n",
      "[54] Current estimate: -15.56056  Ha\n",
      "[55] Current estimate: -15.55560  Ha\n",
      "[56] Current estimate: -15.55492  Ha\n",
      "[57] Current estimate: -15.55825  Ha\n",
      "[58] Current estimate: -15.55782  Ha\n",
      "[59] Current estimate: -15.55724  Ha\n",
      "[60] Current estimate: -15.55777  Ha\n",
      "[61] Current estimate: -15.55919  Ha\n",
      "[62] Current estimate: -15.55984  Ha\n",
      "[63] Current estimate: -15.55873  Ha\n",
      "[64] Current estimate: -15.55857  Ha\n",
      "[65] Current estimate: -15.55945  Ha\n",
      "[66] Current estimate: -15.55749  Ha\n",
      "[67] Current estimate: -15.55868  Ha\n",
      "[68] Current estimate: -15.55877  Ha\n",
      "[69] Current estimate: -15.55677  Ha\n",
      "[70] Current estimate: -15.55854  Ha\n",
      "[71] Current estimate: -15.55815  Ha\n",
      "[72] Current estimate: -15.55632  Ha\n",
      "[73] Current estimate: -15.55595  Ha\n",
      "[74] Current estimate: -15.55927  Ha\n",
      "[75] Current estimate: -15.55658  Ha\n",
      "[76] Current estimate: -15.55821  Ha\n",
      "[77] Current estimate: -15.55841  Ha\n",
      "[78] Current estimate: -15.56244  Ha\n",
      "[79] Current estimate: -15.55788  Ha\n",
      "[80] Current estimate: -15.55718  Ha\n",
      "[81] Current estimate: -15.55885  Ha\n",
      "[82] Current estimate: -15.55987  Ha\n",
      "[83] Current estimate: -15.55593  Ha\n",
      "[84] Current estimate: -15.55699  Ha\n",
      "[85] Current estimate: -15.56170  Ha\n",
      "[86] Current estimate: -15.56013  Ha\n",
      "[87] Current estimate: -15.56134  Ha\n",
      "[88] Current estimate: -15.55823  Ha\n",
      "[89] Current estimate: -15.55883  Ha\n",
      "[90] Current estimate: -15.55908  Ha\n",
      "[91] Current estimate: -15.55929  Ha\n",
      "[92] Current estimate: -15.55915  Ha\n",
      "[93] Current estimate: -15.55744  Ha\n",
      "[94] Current estimate: -15.56087  Ha\n",
      "[95] Current estimate: -15.55957  Ha\n",
      "[96] Current estimate: -15.56247  Ha\n",
      "[97] Current estimate: -15.55715  Ha\n",
      "[98] Current estimate: -15.55993  Ha\n",
      "[99] Current estimate: -15.56155  Ha\n",
      "[100] Current estimate: -15.55878  Ha\n",
      "[101] Current estimate: -15.55936  Ha\n",
      "[102] Current estimate: -15.56011  Ha\n",
      "[103] Current estimate: -15.56015  Ha\n",
      "[104] Current estimate: -15.55784  Ha\n",
      "[105] Current estimate: -15.56067  Ha\n",
      "[106] Current estimate: -15.56000  Ha\n",
      "[107] Current estimate: -15.55964  Ha\n",
      "[108] Current estimate: -15.55947  Ha\n",
      "[109] Current estimate: -15.55978  Ha\n",
      "[110] Current estimate: -15.55932  Ha\n",
      "[111] Current estimate: -15.56017  Ha\n",
      "[112] Current estimate: -15.55850  Ha\n",
      "[113] Current estimate: -15.55938  Ha\n",
      "[114] Current estimate: -15.55951  Ha\n",
      "[115] Current estimate: -15.55844  Ha\n",
      "[116] Current estimate: -15.55866  Ha\n",
      "[117] Current estimate: -15.55957  Ha\n",
      "[118] Current estimate: -15.56109  Ha\n",
      "[119] Current estimate: -15.55947  Ha\n",
      "[120] Current estimate: -15.56094  Ha\n",
      "[121] Current estimate: -15.55974  Ha\n",
      "[122] Current estimate: -15.56023  Ha\n",
      "[123] Current estimate: -15.55966  Ha\n",
      "[124] Current estimate: -15.55850  Ha\n",
      "[125] Current estimate: -15.55913  Ha\n",
      "[126] Current estimate: -15.55806  Ha\n",
      "[127] Current estimate: -15.56123  Ha\n",
      "[128] Current estimate: -15.56004  Ha\n",
      "[129] Current estimate: -15.55940  Ha\n",
      "[130] Current estimate: -15.56058  Ha\n",
      "[131] Current estimate: -15.56012  Ha\n",
      "[132] Current estimate: -15.56017  Ha\n",
      "[133] Current estimate: -15.55929  Ha\n",
      "[134] Current estimate: -15.56024  Ha\n",
      "[135] Current estimate: -15.56039  Ha\n",
      "[136] Current estimate: -15.55968  Ha\n",
      "[137] Current estimate: -15.56128  Ha\n",
      "[138] Current estimate: -15.55845  Ha\n",
      "[139] Current estimate: -15.56111  Ha\n",
      "[140] Current estimate: -15.56006  Ha\n",
      "[141] Current estimate: -15.56017  Ha\n",
      "[142] Current estimate: -15.55908  Ha\n",
      "[143] Current estimate: -15.56142  Ha\n",
      "[144] Current estimate: -15.55941  Ha\n",
      "[145] Current estimate: -15.55962  Ha\n",
      "[146] Current estimate: -15.55970  Ha\n",
      "[147] Current estimate: -15.56066  Ha\n",
      "[148] Current estimate: -15.56009  Ha\n",
      "[149] Current estimate: -15.56034  Ha\n",
      "[150] Current estimate: -15.55887  Ha\n",
      "[151] Current estimate: -15.56031  Ha\n",
      "[152] Current estimate: -15.56007  Ha\n",
      "[153] Current estimate: -15.55980  Ha\n",
      "[154] Current estimate: -15.55996  Ha\n",
      "[155] Current estimate: -15.55969  Ha\n",
      "[156] Current estimate: -15.55992  Ha\n",
      "[157] Current estimate: -15.56031  Ha\n",
      "[158] Current estimate: -15.56038  Ha\n",
      "[159] Current estimate: -15.55912  Ha\n",
      "[160] Current estimate: -15.55970  Ha\n",
      "[161] Current estimate: -15.55949  Ha\n",
      "[162] Current estimate: -15.55940  Ha\n",
      "[163] Current estimate: -15.56031  Ha\n",
      "[164] Current estimate: -15.56152  Ha\n",
      "[165] Current estimate: -15.56045  Ha\n",
      "[166] Current estimate: -15.55939  Ha\n",
      "[167] Current estimate: -15.55921  Ha\n",
      "[168] Current estimate: -15.55963  Ha\n",
      "[169] Current estimate: -15.56040  Ha\n",
      "[170] Current estimate: -15.56051  Ha\n",
      "[171] Current estimate: -15.56134  Ha\n",
      "[172] Current estimate: -15.56034  Ha\n",
      "[173] Current estimate: -15.56121  Ha\n",
      "[174] Current estimate: -15.55995  Ha\n",
      "[175] Current estimate: -15.56044  Ha\n",
      "[176] Current estimate: -15.55972  Ha\n",
      "[177] Current estimate: -15.56090  Ha\n",
      "[178] Current estimate: -15.56077  Ha\n",
      "[179] Current estimate: -15.56060  Ha\n",
      "[180] Current estimate: -15.56100  Ha\n",
      "[181] Current estimate: -15.55956  Ha\n",
      "[182] Current estimate: -15.56030  Ha\n",
      "[183] Current estimate: -15.56036  Ha\n",
      "[184] Current estimate: -15.55937  Ha\n",
      "[185] Current estimate: -15.55965  Ha\n",
      "[186] Current estimate: -15.55997  Ha\n",
      "[187] Current estimate: -15.56029  Ha\n",
      "[188] Current estimate: -15.56075  Ha\n",
      "[189] Current estimate: -15.56046  Ha\n",
      "[190] Current estimate: -15.56076  Ha\n",
      "[191] Current estimate: -15.56102  Ha\n",
      "[192] Current estimate: -15.55972  Ha\n",
      "[193] Current estimate: -15.56007  Ha\n",
      "[194] Current estimate: -15.56049  Ha\n",
      "[195] Current estimate: -15.56128  Ha\n",
      "[196] Current estimate: -15.55995  Ha\n",
      "[197] Current estimate: -15.56119  Ha\n",
      "[198] Current estimate: -15.55964  Ha\n",
      "[199] Current estimate: -15.55837  Ha\n",
      "[200] Current estimate: -15.55991  Ha\n"
     ]
    }
   ],
   "source": [
    "# energies_ideal_hea, params_ideal_hea = train_local(problem, qubit_op, hea_simplified, backend_ideal, options, initial_point=None)"
   ]
  },
  {
   "cell_type": "code",
   "execution_count": 132,
   "metadata": {},
   "outputs": [],
   "source": [
    "# np.save(Path.cwd() / \"data\" / \"energies_ideal_hea\", np.array(energies_ideal_hea))"
   ]
  },
  {
   "cell_type": "code",
   "execution_count": 133,
   "metadata": {},
   "outputs": [],
   "source": [
    "energies_ideal_hea = np.load(Path.cwd() / \"data\" / \"energies_ideal_hea.npy\")"
   ]
  },
  {
   "cell_type": "code",
   "execution_count": 136,
   "metadata": {
    "colab": {
     "base_uri": "https://localhost:8080/",
     "height": 404
    },
    "id": "z3dWwRsPuR6u",
    "outputId": "5ee20de4-f3ad-479b-8c20-51d9979eb36a",
    "scrolled": false
   },
   "outputs": [
    {
     "data": {
      "image/png": "[encoded data removed]",
      "text/plain": [
       "<Figure size 1000x500 with 1 Axes>"
      ]
     },
     "metadata": {},
     "output_type": "display_data"
    }
   ],
   "source": [
    "plt.figure(figsize=(10, 5), facecolor='white')\n",
    "plt.plot(energies_ideal_uccsd, label=\"UCCSD\")\n",
    "plt.plot(energies_ideal_hea, label=\"HEA\")\n",
    "\n",
    "plt.axhline(y=-15.561353, color=\"tab:red\", ls=\"--\", label=\"Target Energy\")\n",
    "\n",
    "plt.legend(loc=\"best\")\n",
    "plt.xlabel(\"Iteration\")\n",
    "plt.ylabel(\"Energy [H]\")\n",
    "plt.title(\"VQE Run on a noiseless simulator\")\n",
    "plt.show()"
   ]
  },
  {
   "cell_type": "markdown",
   "metadata": {},
   "source": [
    "In the plots above, we can see that both ansätze converged perfectly towards the know ground energy for $BeH_2$. This is expected as the simulated device is perfect and noise-free."
   ]
  },
  {
   "cell_type": "markdown",
   "metadata": {
    "id": "mcft_chljmiv"
   },
   "source": [
    "### Noisy device\n",
    "\n",
    "Of course, real device are far from being noise-free. Thus, a more suitable simulation must include the effects of noise. We use a noise model from the IBMQ Guadalupe quantum device, as this is the device on which we ran our real experiment.\n",
    "\n",
    "Here, we only optimize the circuit for the device, without using any error mitigation techniques."
   ]
  },
  {
   "cell_type": "code",
   "execution_count": 138,
   "metadata": {
    "id": "hoO3pqS1yTSM"
   },
   "outputs": [],
   "source": [
    "from qiskit.providers.fake_provider import FakeGuadalupeV2\n",
    "backend_noisy = FakeGuadalupeV2()\n",
    "options = {\n",
    "    'optimization_level': 2\n",
    "}"
   ]
  },
  {
   "cell_type": "markdown",
   "metadata": {
    "id": "UUxwYsUckxKv"
   },
   "source": [
    "#### UCCSD"
   ]
  },
  {
   "cell_type": "code",
   "execution_count": 139,
   "metadata": {
    "colab": {
     "base_uri": "https://localhost:8080/"
    },
    "id": "GToi6loEywat",
    "outputId": "99fb0ce7-127c-483c-ca0f-c1835993a789"
   },
   "outputs": [
    {
     "name": "stdout",
     "output_type": "stream",
     "text": [
      "[1] Current estimate: -14.67849  Ha\n",
      "[2] Current estimate: -14.74394  Ha\n",
      "[3] Current estimate: -14.72557  Ha\n",
      "[4] Current estimate: -14.72960  Ha\n",
      "[5] Current estimate: -14.66908  Ha\n",
      "[6] Current estimate: -14.72879  Ha\n",
      "[7] Current estimate: -14.69739  Ha\n",
      "[8] Current estimate: -14.75272  Ha\n",
      "[9] Current estimate: -14.71542  Ha\n",
      "[10] Current estimate: -14.75049  Ha\n",
      "[11] Current estimate: -14.69068  Ha\n",
      "[12] Current estimate: -14.74111  Ha\n",
      "[13] Current estimate: -14.77009  Ha\n",
      "[14] Current estimate: -14.72828  Ha\n",
      "[15] Current estimate: -14.76121  Ha\n",
      "[16] Current estimate: -14.82154  Ha\n",
      "[17] Current estimate: -14.80405  Ha\n",
      "[18] Current estimate: -14.80227  Ha\n",
      "[19] Current estimate: -14.73707  Ha\n",
      "[20] Current estimate: -14.76477  Ha\n",
      "[21] Current estimate: -14.79593  Ha\n",
      "[22] Current estimate: -14.83975  Ha\n",
      "[23] Current estimate: -14.75464  Ha\n",
      "[24] Current estimate: -14.77834  Ha\n",
      "[25] Current estimate: -14.79898  Ha\n",
      "[26] Current estimate: -14.79392  Ha\n",
      "[27] Current estimate: -14.74298  Ha\n",
      "[28] Current estimate: -14.82104  Ha\n",
      "[29] Current estimate: -14.80118  Ha\n",
      "[30] Current estimate: -14.75849  Ha\n",
      "[31] Current estimate: -14.80547  Ha\n",
      "[32] Current estimate: -14.85634  Ha\n",
      "[33] Current estimate: -14.83787  Ha\n",
      "[34] Current estimate: -14.81261  Ha\n",
      "[35] Current estimate: -14.88289  Ha\n",
      "[36] Current estimate: -14.86947  Ha\n",
      "[37] Current estimate: -14.82667  Ha\n",
      "[38] Current estimate: -14.78762  Ha\n",
      "[39] Current estimate: -14.87357  Ha\n",
      "[40] Current estimate: -14.78590  Ha\n",
      "[41] Current estimate: -14.78187  Ha\n",
      "[42] Current estimate: -14.74232  Ha\n",
      "[43] Current estimate: -14.78568  Ha\n",
      "[44] Current estimate: -14.88877  Ha\n",
      "[45] Current estimate: -14.80478  Ha\n",
      "[46] Current estimate: -14.84823  Ha\n",
      "[47] Current estimate: -14.82731  Ha\n",
      "[48] Current estimate: -14.81600  Ha\n",
      "[49] Current estimate: -14.77847  Ha\n",
      "[50] Current estimate: -14.85429  Ha\n",
      "[51] Current estimate: -14.79872  Ha\n",
      "[52] Current estimate: -14.86379  Ha\n",
      "[53] Current estimate: -14.75375  Ha\n",
      "[54] Current estimate: -14.80556  Ha\n",
      "[55] Current estimate: -14.79738  Ha\n",
      "[56] Current estimate: -14.78048  Ha\n",
      "[57] Current estimate: -14.81692  Ha\n",
      "[58] Current estimate: -14.77615  Ha\n",
      "[59] Current estimate: -14.75643  Ha\n",
      "[60] Current estimate: -14.83405  Ha\n",
      "[61] Current estimate: -14.81893  Ha\n",
      "[62] Current estimate: -14.79594  Ha\n",
      "[63] Current estimate: -14.84313  Ha\n",
      "[64] Current estimate: -14.80879  Ha\n",
      "[65] Current estimate: -14.86399  Ha\n",
      "[66] Current estimate: -14.85491  Ha\n",
      "[67] Current estimate: -14.81992  Ha\n",
      "[68] Current estimate: -14.79413  Ha\n",
      "[69] Current estimate: -14.86144  Ha\n",
      "[70] Current estimate: -14.83475  Ha\n",
      "[71] Current estimate: -14.84533  Ha\n",
      "[72] Current estimate: -14.84064  Ha\n",
      "[73] Current estimate: -14.87408  Ha\n",
      "[74] Current estimate: -14.85336  Ha\n",
      "[75] Current estimate: -14.86744  Ha\n",
      "[76] Current estimate: -14.82344  Ha\n",
      "[77] Current estimate: -14.84893  Ha\n",
      "[78] Current estimate: -14.86032  Ha\n",
      "[79] Current estimate: -14.87112  Ha\n",
      "[80] Current estimate: -14.80420  Ha\n",
      "[81] Current estimate: -14.85009  Ha\n",
      "[82] Current estimate: -14.85187  Ha\n",
      "[83] Current estimate: -14.81203  Ha\n",
      "[84] Current estimate: -14.83623  Ha\n",
      "[85] Current estimate: -14.79007  Ha\n",
      "[86] Current estimate: -14.84562  Ha\n",
      "[87] Current estimate: -14.79190  Ha\n",
      "[88] Current estimate: -14.81278  Ha\n",
      "[89] Current estimate: -14.81567  Ha\n",
      "[90] Current estimate: -14.80878  Ha\n",
      "[91] Current estimate: -14.81695  Ha\n",
      "[92] Current estimate: -14.79205  Ha\n",
      "[93] Current estimate: -14.84197  Ha\n",
      "[94] Current estimate: -14.82556  Ha\n",
      "[95] Current estimate: -14.75853  Ha\n",
      "[96] Current estimate: -14.78996  Ha\n",
      "[97] Current estimate: -14.83610  Ha\n",
      "[98] Current estimate: -14.82898  Ha\n",
      "[99] Current estimate: -14.81636  Ha\n",
      "[100] Current estimate: -14.81176  Ha\n",
      "[101] Current estimate: -14.86946  Ha\n",
      "[102] Current estimate: -14.86094  Ha\n",
      "[103] Current estimate: -14.81331  Ha\n",
      "[104] Current estimate: -14.81594  Ha\n",
      "[105] Current estimate: -14.83096  Ha\n",
      "[106] Current estimate: -14.79768  Ha\n",
      "[107] Current estimate: -14.82122  Ha\n",
      "[108] Current estimate: -14.82922  Ha\n",
      "[109] Current estimate: -14.79096  Ha\n",
      "[110] Current estimate: -14.86507  Ha\n",
      "[111] Current estimate: -14.78737  Ha\n",
      "[112] Current estimate: -14.81388  Ha\n",
      "[113] Current estimate: -14.79847  Ha\n",
      "[114] Current estimate: -14.82124  Ha\n",
      "[115] Current estimate: -14.83661  Ha\n",
      "[116] Current estimate: -14.79515  Ha\n",
      "[117] Current estimate: -14.86733  Ha\n",
      "[118] Current estimate: -14.75339  Ha\n",
      "[119] Current estimate: -14.76994  Ha\n",
      "[120] Current estimate: -14.80102  Ha\n",
      "[121] Current estimate: -14.85145  Ha\n",
      "[122] Current estimate: -14.83732  Ha\n",
      "[123] Current estimate: -14.78641  Ha\n",
      "[124] Current estimate: -14.83530  Ha\n",
      "[125] Current estimate: -14.83989  Ha\n",
      "[126] Current estimate: -14.83766  Ha\n",
      "[127] Current estimate: -14.81755  Ha\n",
      "[128] Current estimate: -14.81897  Ha\n",
      "[129] Current estimate: -14.84249  Ha\n",
      "[130] Current estimate: -14.86217  Ha\n",
      "[131] Current estimate: -14.81680  Ha\n",
      "[132] Current estimate: -14.79488  Ha\n",
      "[133] Current estimate: -14.84240  Ha\n",
      "[134] Current estimate: -14.73991  Ha\n",
      "[135] Current estimate: -14.84734  Ha\n",
      "[136] Current estimate: -14.80485  Ha\n",
      "[137] Current estimate: -14.84723  Ha\n",
      "[138] Current estimate: -14.81049  Ha\n",
      "[139] Current estimate: -14.83253  Ha\n",
      "[140] Current estimate: -14.78195  Ha\n",
      "[141] Current estimate: -14.88622  Ha\n",
      "[142] Current estimate: -14.82891  Ha\n",
      "[143] Current estimate: -14.81585  Ha\n",
      "[144] Current estimate: -14.78525  Ha\n",
      "[145] Current estimate: -14.83981  Ha\n",
      "[146] Current estimate: -14.83170  Ha\n",
      "[147] Current estimate: -14.84819  Ha\n",
      "[148] Current estimate: -14.80682  Ha\n",
      "[149] Current estimate: -14.79377  Ha\n",
      "[150] Current estimate: -14.79817  Ha\n",
      "[151] Current estimate: -14.81559  Ha\n",
      "[152] Current estimate: -14.77177  Ha\n",
      "[153] Current estimate: -14.80416  Ha\n",
      "[154] Current estimate: -14.83625  Ha\n",
      "[155] Current estimate: -14.82602  Ha\n",
      "[156] Current estimate: -14.84479  Ha\n",
      "[157] Current estimate: -14.79494  Ha\n",
      "[158] Current estimate: -14.78588  Ha\n",
      "[159] Current estimate: -14.75132  Ha\n",
      "[160] Current estimate: -14.80436  Ha\n",
      "[161] Current estimate: -14.81140  Ha\n",
      "[162] Current estimate: -14.80201  Ha\n",
      "[163] Current estimate: -14.82088  Ha\n",
      "[164] Current estimate: -14.80686  Ha\n",
      "[165] Current estimate: -14.78504  Ha\n",
      "[166] Current estimate: -14.87328  Ha\n",
      "[167] Current estimate: -14.76096  Ha\n",
      "[168] Current estimate: -14.79122  Ha\n",
      "[169] Current estimate: -14.81632  Ha\n",
      "[170] Current estimate: -14.71800  Ha\n",
      "[171] Current estimate: -14.83121  Ha\n",
      "[172] Current estimate: -14.81029  Ha\n",
      "[173] Current estimate: -14.84400  Ha\n",
      "[174] Current estimate: -14.84244  Ha\n",
      "[175] Current estimate: -14.86524  Ha\n",
      "[176] Current estimate: -14.81091  Ha\n",
      "[177] Current estimate: -14.80857  Ha\n",
      "[178] Current estimate: -14.83886  Ha\n",
      "[179] Current estimate: -14.81384  Ha\n",
      "[180] Current estimate: -14.83283  Ha\n",
      "[181] Current estimate: -14.81191  Ha\n",
      "[182] Current estimate: -14.79138  Ha\n",
      "[183] Current estimate: -14.88512  Ha\n",
      "[184] Current estimate: -14.80987  Ha\n",
      "[185] Current estimate: -14.90282  Ha\n",
      "[186] Current estimate: -14.85133  Ha\n",
      "[187] Current estimate: -14.84338  Ha\n",
      "[188] Current estimate: -14.82626  Ha\n",
      "[189] Current estimate: -14.79557  Ha\n",
      "[190] Current estimate: -14.83176  Ha\n",
      "[191] Current estimate: -14.83013  Ha\n",
      "[192] Current estimate: -14.73240  Ha\n",
      "[193] Current estimate: -14.79273  Ha\n",
      "[194] Current estimate: -14.82491  Ha\n",
      "[195] Current estimate: -14.77821  Ha\n",
      "[196] Current estimate: -14.81442  Ha\n",
      "[197] Current estimate: -14.78520  Ha\n",
      "[198] Current estimate: -14.81598  Ha\n",
      "[199] Current estimate: -14.75610  Ha\n",
      "[200] Current estimate: -14.84801  Ha\n"
     ]
    }
   ],
   "source": [
    "# energies_noisy_uccsd, params_noisy_uccsd = train_local(problem, qubit_op, uccsd_simplified, backend_noisy, options, initial_point=None)"
   ]
  },
  {
   "cell_type": "code",
   "execution_count": 140,
   "metadata": {},
   "outputs": [],
   "source": [
    "# np.save(Path.cwd() / \"data\" / \"energies_noisy_uccsd\", np.array(energies_noisy_uccsd))"
   ]
  },
  {
   "cell_type": "code",
   "execution_count": 141,
   "metadata": {},
   "outputs": [],
   "source": [
    "energies_noisy_uccsd = np.load(Path.cwd() / \"data\" / \"energies_noisy_uccsd.npy\")"
   ]
  },
  {
   "cell_type": "markdown",
   "metadata": {
    "id": "SVvtt_IZkxH_"
   },
   "source": [
    "#### HAE"
   ]
  },
  {
   "cell_type": "code",
   "execution_count": 142,
   "metadata": {
    "colab": {
     "base_uri": "https://localhost:8080/"
    },
    "id": "7D8ZxNKYjlLc",
    "outputId": "121605af-4be0-4b52-87f1-470c39cb5e16"
   },
   "outputs": [
    {
     "name": "stdout",
     "output_type": "stream",
     "text": [
      "[1] Current estimate: -15.01898  Ha\n",
      "[2] Current estimate: -14.94731  Ha\n",
      "[3] Current estimate: -14.92859  Ha\n",
      "[4] Current estimate: -14.98216  Ha\n",
      "[5] Current estimate: -15.03206  Ha\n",
      "[6] Current estimate: -15.03157  Ha\n",
      "[7] Current estimate: -15.10076  Ha\n",
      "[8] Current estimate: -15.10499  Ha\n",
      "[9] Current estimate: -15.09066  Ha\n",
      "[10] Current estimate: -15.09775  Ha\n",
      "[11] Current estimate: -15.13476  Ha\n",
      "[12] Current estimate: -15.14125  Ha\n",
      "[13] Current estimate: -15.13146  Ha\n",
      "[14] Current estimate: -15.13128  Ha\n",
      "[15] Current estimate: -15.17395  Ha\n",
      "[16] Current estimate: -15.16974  Ha\n",
      "[17] Current estimate: -15.17216  Ha\n",
      "[18] Current estimate: -15.15622  Ha\n",
      "[19] Current estimate: -15.16404  Ha\n",
      "[20] Current estimate: -15.16037  Ha\n",
      "[21] Current estimate: -15.20813  Ha\n",
      "[22] Current estimate: -15.14377  Ha\n",
      "[23] Current estimate: -15.15840  Ha\n",
      "[24] Current estimate: -15.17886  Ha\n",
      "[25] Current estimate: -15.18375  Ha\n",
      "[26] Current estimate: -15.21295  Ha\n",
      "[27] Current estimate: -15.24205  Ha\n",
      "[28] Current estimate: -15.21669  Ha\n",
      "[29] Current estimate: -15.20075  Ha\n",
      "[30] Current estimate: -15.20624  Ha\n",
      "[31] Current estimate: -15.18581  Ha\n",
      "[32] Current estimate: -15.19977  Ha\n",
      "[33] Current estimate: -15.21604  Ha\n",
      "[34] Current estimate: -15.20544  Ha\n",
      "[35] Current estimate: -15.21367  Ha\n",
      "[36] Current estimate: -15.21029  Ha\n",
      "[37] Current estimate: -15.23379  Ha\n",
      "[38] Current estimate: -15.17626  Ha\n",
      "[39] Current estimate: -15.22474  Ha\n",
      "[40] Current estimate: -15.22794  Ha\n",
      "[41] Current estimate: -15.23066  Ha\n",
      "[42] Current estimate: -15.23176  Ha\n",
      "[43] Current estimate: -15.22288  Ha\n",
      "[44] Current estimate: -15.19891  Ha\n",
      "[45] Current estimate: -15.20301  Ha\n",
      "[46] Current estimate: -15.22447  Ha\n",
      "[47] Current estimate: -15.24168  Ha\n",
      "[48] Current estimate: -15.23247  Ha\n",
      "[49] Current estimate: -15.23094  Ha\n",
      "[50] Current estimate: -15.20855  Ha\n",
      "[51] Current estimate: -15.23205  Ha\n",
      "[52] Current estimate: -15.21884  Ha\n",
      "[53] Current estimate: -15.21738  Ha\n",
      "[54] Current estimate: -15.25302  Ha\n",
      "[55] Current estimate: -15.21300  Ha\n",
      "[56] Current estimate: -15.22389  Ha\n",
      "[57] Current estimate: -15.24002  Ha\n",
      "[58] Current estimate: -15.21074  Ha\n",
      "[59] Current estimate: -15.23774  Ha\n",
      "[60] Current estimate: -15.21068  Ha\n",
      "[61] Current estimate: -15.17956  Ha\n",
      "[62] Current estimate: -15.23237  Ha\n",
      "[63] Current estimate: -15.23468  Ha\n",
      "[64] Current estimate: -15.21975  Ha\n",
      "[65] Current estimate: -15.19362  Ha\n",
      "[66] Current estimate: -15.21923  Ha\n",
      "[67] Current estimate: -15.23019  Ha\n",
      "[68] Current estimate: -15.21858  Ha\n",
      "[69] Current estimate: -15.20155  Ha\n",
      "[70] Current estimate: -15.19588  Ha\n",
      "[71] Current estimate: -15.19867  Ha\n",
      "[72] Current estimate: -15.23868  Ha\n",
      "[73] Current estimate: -15.23993  Ha\n",
      "[74] Current estimate: -15.21990  Ha\n",
      "[75] Current estimate: -15.23609  Ha\n",
      "[76] Current estimate: -15.23147  Ha\n",
      "[77] Current estimate: -15.21898  Ha\n",
      "[78] Current estimate: -15.23202  Ha\n",
      "[79] Current estimate: -15.24286  Ha\n",
      "[80] Current estimate: -15.20190  Ha\n",
      "[81] Current estimate: -15.21161  Ha\n",
      "[82] Current estimate: -15.22379  Ha\n",
      "[83] Current estimate: -15.22219  Ha\n",
      "[84] Current estimate: -15.19550  Ha\n",
      "[85] Current estimate: -15.21487  Ha\n",
      "[86] Current estimate: -15.23029  Ha\n",
      "[87] Current estimate: -15.19219  Ha\n",
      "[88] Current estimate: -15.23743  Ha\n",
      "[89] Current estimate: -15.23839  Ha\n",
      "[90] Current estimate: -15.23508  Ha\n",
      "[91] Current estimate: -15.23220  Ha\n",
      "[92] Current estimate: -15.23309  Ha\n",
      "[93] Current estimate: -15.22595  Ha\n",
      "[94] Current estimate: -15.23621  Ha\n",
      "[95] Current estimate: -15.22580  Ha\n",
      "[96] Current estimate: -15.22699  Ha\n",
      "[97] Current estimate: -15.22445  Ha\n",
      "[98] Current estimate: -15.24655  Ha\n",
      "[99] Current estimate: -15.23576  Ha\n",
      "[100] Current estimate: -15.18552  Ha\n",
      "[101] Current estimate: -15.21954  Ha\n",
      "[102] Current estimate: -15.23366  Ha\n",
      "[103] Current estimate: -15.20153  Ha\n",
      "[104] Current estimate: -15.22911  Ha\n",
      "[105] Current estimate: -15.22897  Ha\n",
      "[106] Current estimate: -15.21872  Ha\n",
      "[107] Current estimate: -15.20229  Ha\n",
      "[108] Current estimate: -15.17087  Ha\n",
      "[109] Current estimate: -15.22994  Ha\n",
      "[110] Current estimate: -15.22256  Ha\n",
      "[111] Current estimate: -15.22830  Ha\n",
      "[112] Current estimate: -15.22418  Ha\n",
      "[113] Current estimate: -15.24583  Ha\n",
      "[114] Current estimate: -15.20917  Ha\n",
      "[115] Current estimate: -15.22355  Ha\n",
      "[116] Current estimate: -15.23944  Ha\n",
      "[117] Current estimate: -15.23335  Ha\n",
      "[118] Current estimate: -15.22397  Ha\n",
      "[119] Current estimate: -15.20874  Ha\n",
      "[120] Current estimate: -15.20818  Ha\n",
      "[121] Current estimate: -15.23103  Ha\n",
      "[122] Current estimate: -15.24017  Ha\n",
      "[123] Current estimate: -15.18191  Ha\n",
      "[124] Current estimate: -15.22625  Ha\n",
      "[125] Current estimate: -15.23821  Ha\n",
      "[126] Current estimate: -15.23140  Ha\n",
      "[127] Current estimate: -15.24143  Ha\n",
      "[128] Current estimate: -15.20745  Ha\n",
      "[129] Current estimate: -15.20012  Ha\n",
      "[130] Current estimate: -15.24866  Ha\n",
      "[131] Current estimate: -15.22176  Ha\n",
      "[132] Current estimate: -15.21206  Ha\n",
      "[133] Current estimate: -15.24173  Ha\n",
      "[134] Current estimate: -15.21774  Ha\n",
      "[135] Current estimate: -15.23731  Ha\n",
      "[136] Current estimate: -15.20078  Ha\n",
      "[137] Current estimate: -15.24069  Ha\n",
      "[138] Current estimate: -15.22430  Ha\n",
      "[139] Current estimate: -15.22894  Ha\n",
      "[140] Current estimate: -15.23078  Ha\n",
      "[141] Current estimate: -15.23705  Ha\n",
      "[142] Current estimate: -15.23469  Ha\n",
      "[143] Current estimate: -15.21779  Ha\n",
      "[144] Current estimate: -15.23030  Ha\n",
      "[145] Current estimate: -15.23514  Ha\n",
      "[146] Current estimate: -15.22190  Ha\n",
      "[147] Current estimate: -15.19938  Ha\n",
      "[148] Current estimate: -15.23543  Ha\n",
      "[149] Current estimate: -15.23184  Ha\n",
      "[150] Current estimate: -15.24049  Ha\n",
      "[151] Current estimate: -15.22529  Ha\n",
      "[152] Current estimate: -15.21685  Ha\n",
      "[153] Current estimate: -15.23912  Ha\n",
      "[154] Current estimate: -15.23054  Ha\n",
      "[155] Current estimate: -15.21047  Ha\n",
      "[156] Current estimate: -15.23881  Ha\n",
      "[157] Current estimate: -15.19793  Ha\n",
      "[158] Current estimate: -15.23683  Ha\n",
      "[159] Current estimate: -15.23959  Ha\n",
      "[160] Current estimate: -15.24885  Ha\n",
      "[161] Current estimate: -15.21869  Ha\n",
      "[162] Current estimate: -15.23099  Ha\n",
      "[163] Current estimate: -15.22314  Ha\n",
      "[164] Current estimate: -15.23471  Ha\n",
      "[165] Current estimate: -15.20470  Ha\n",
      "[166] Current estimate: -15.22810  Ha\n",
      "[167] Current estimate: -15.21397  Ha\n",
      "[168] Current estimate: -15.22769  Ha\n",
      "[169] Current estimate: -15.23421  Ha\n",
      "[170] Current estimate: -15.23360  Ha\n",
      "[171] Current estimate: -15.24099  Ha\n",
      "[172] Current estimate: -15.24478  Ha\n",
      "[173] Current estimate: -15.22605  Ha\n",
      "[174] Current estimate: -15.21960  Ha\n",
      "[175] Current estimate: -15.23439  Ha\n",
      "[176] Current estimate: -15.21855  Ha\n",
      "[177] Current estimate: -15.21040  Ha\n",
      "[178] Current estimate: -15.23350  Ha\n",
      "[179] Current estimate: -15.23879  Ha\n",
      "[180] Current estimate: -15.24146  Ha\n",
      "[181] Current estimate: -15.20477  Ha\n",
      "[182] Current estimate: -15.22824  Ha\n",
      "[183] Current estimate: -15.24430  Ha\n",
      "[184] Current estimate: -15.22702  Ha\n",
      "[185] Current estimate: -15.24173  Ha\n",
      "[186] Current estimate: -15.19222  Ha\n",
      "[187] Current estimate: -15.21850  Ha\n",
      "[188] Current estimate: -15.23735  Ha\n",
      "[189] Current estimate: -15.22041  Ha\n",
      "[190] Current estimate: -15.23656  Ha\n",
      "[191] Current estimate: -15.20631  Ha\n",
      "[192] Current estimate: -15.23357  Ha\n",
      "[193] Current estimate: -15.24407  Ha\n",
      "[194] Current estimate: -15.22936  Ha\n",
      "[195] Current estimate: -15.24069  Ha\n",
      "[196] Current estimate: -15.21743  Ha\n",
      "[197] Current estimate: -15.22483  Ha\n",
      "[198] Current estimate: -15.24085  Ha\n",
      "[199] Current estimate: -15.18519  Ha\n",
      "[200] Current estimate: -15.23530  Ha\n"
     ]
    }
   ],
   "source": [
    "# energies_noisy_hea, params_noisy_hea = train_local(problem, qubit_op, hea_simplified, backend_noisy, options, initial_point=None)"
   ]
  },
  {
   "cell_type": "code",
   "execution_count": 143,
   "metadata": {},
   "outputs": [],
   "source": [
    "# np.save(Path.cwd() / \"data\" / \"energies_noisy_hea\", np.array(energies_noisy_hea))"
   ]
  },
  {
   "cell_type": "code",
   "execution_count": 144,
   "metadata": {},
   "outputs": [],
   "source": [
    "energies_noisy_hea = np.load(Path.cwd() / \"data\" / \"energies_noisy_hea.npy\")"
   ]
  },
  {
   "cell_type": "code",
   "execution_count": 145,
   "metadata": {},
   "outputs": [
    {
     "data": {
      "image/png": "[encoded data removed]",
      "text/plain": [
       "<Figure size 1000x500 with 1 Axes>"
      ]
     },
     "metadata": {},
     "output_type": "display_data"
    }
   ],
   "source": [
    "plt.figure(figsize=(10, 5), facecolor='white')\n",
    "plt.plot(energies_noisy_uccsd, label=\"UCCSD\")\n",
    "plt.plot(energies_noisy_hea, label=\"HEA\")\n",
    "\n",
    "plt.axhline(y=-15.561353, color=\"tab:red\", ls=\"--\", label=\"Target Energy\")\n",
    "\n",
    "plt.legend(loc=\"best\")\n",
    "plt.xlabel(\"Iteration\")\n",
    "plt.ylabel(\"Energy [H]\")\n",
    "plt.title(\"VQE Run on a noisy simulator (Guadalupe-like)\")\n",
    "plt.show()"
   ]
  },
  {
   "cell_type": "markdown",
   "metadata": {},
   "source": [
    "Unlike the previous simulation, in a noisy device, we can first of all see than neither of the circuits has found the correct energy, although there is a clear winner between the two, which is the hardware efficient ansatz, the noise having affected the UCCSD circuit much more than the EfficientSU2 for the reasons explained above."
   ]
  },
  {
   "cell_type": "markdown",
   "metadata": {
    "id": "Sri7W_aBjmgN"
   },
   "source": [
    "### Noisy device (with Error Mitigation)\n",
    "\n",
    "Now let us apply error mitigation on our noisy VQE simulation. We used the level 3 error mitigation in Qiskit primitives which uses PEC, with the same level of optimization."
   ]
  },
  {
   "cell_type": "code",
   "execution_count": 146,
   "metadata": {},
   "outputs": [],
   "source": [
    "options = {\n",
    "    'optimization_level': 2,\n",
    "    'resilience_level': 3\n",
    "}"
   ]
  },
  {
   "cell_type": "markdown",
   "metadata": {
    "id": "jarvRfS0k2Kf"
   },
   "source": [
    "#### UCCSD"
   ]
  },
  {
   "cell_type": "code",
   "execution_count": 147,
   "metadata": {},
   "outputs": [
    {
     "name": "stdout",
     "output_type": "stream",
     "text": [
      "[1] Current estimate: -14.81449  Ha\n",
      "[2] Current estimate: -14.77456  Ha\n",
      "[3] Current estimate: -14.75448  Ha\n",
      "[4] Current estimate: -14.75746  Ha\n",
      "[5] Current estimate: -14.77650  Ha\n",
      "[6] Current estimate: -14.81897  Ha\n",
      "[7] Current estimate: -14.83985  Ha\n",
      "[8] Current estimate: -14.82936  Ha\n",
      "[9] Current estimate: -14.78541  Ha\n",
      "[10] Current estimate: -14.74495  Ha\n",
      "[11] Current estimate: -14.81531  Ha\n",
      "[12] Current estimate: -14.77546  Ha\n",
      "[13] Current estimate: -14.74991  Ha\n",
      "[14] Current estimate: -14.82033  Ha\n",
      "[15] Current estimate: -14.77245  Ha\n",
      "[16] Current estimate: -14.77019  Ha\n",
      "[17] Current estimate: -14.80809  Ha\n",
      "[18] Current estimate: -14.78320  Ha\n",
      "[19] Current estimate: -14.86933  Ha\n",
      "[20] Current estimate: -14.74213  Ha\n",
      "[21] Current estimate: -14.73541  Ha\n",
      "[22] Current estimate: -14.76808  Ha\n",
      "[23] Current estimate: -14.75496  Ha\n",
      "[24] Current estimate: -14.71943  Ha\n",
      "[25] Current estimate: -14.75775  Ha\n",
      "[26] Current estimate: -14.80373  Ha\n",
      "[27] Current estimate: -14.87657  Ha\n",
      "[28] Current estimate: -14.78453  Ha\n",
      "[29] Current estimate: -14.76918  Ha\n",
      "[30] Current estimate: -14.76596  Ha\n",
      "[31] Current estimate: -14.75013  Ha\n",
      "[32] Current estimate: -14.72232  Ha\n",
      "[33] Current estimate: -14.73299  Ha\n",
      "[34] Current estimate: -14.77113  Ha\n",
      "[35] Current estimate: -14.78047  Ha\n",
      "[36] Current estimate: -14.76162  Ha\n",
      "[37] Current estimate: -14.83760  Ha\n",
      "[38] Current estimate: -14.74128  Ha\n",
      "[39] Current estimate: -14.75647  Ha\n",
      "[40] Current estimate: -14.81871  Ha\n",
      "[41] Current estimate: -14.82738  Ha\n",
      "[42] Current estimate: -14.83056  Ha\n",
      "[43] Current estimate: -14.78833  Ha\n",
      "[44] Current estimate: -14.79805  Ha\n",
      "[45] Current estimate: -14.86533  Ha\n",
      "[46] Current estimate: -14.84439  Ha\n",
      "[47] Current estimate: -14.77643  Ha\n",
      "[48] Current estimate: -14.78562  Ha\n",
      "[49] Current estimate: -14.83339  Ha\n",
      "[50] Current estimate: -14.84723  Ha\n",
      "[51] Current estimate: -14.81684  Ha\n",
      "[52] Current estimate: -14.85429  Ha\n",
      "[53] Current estimate: -14.88360  Ha\n",
      "[54] Current estimate: -14.81122  Ha\n",
      "[55] Current estimate: -14.87354  Ha\n",
      "[56] Current estimate: -14.85509  Ha\n",
      "[57] Current estimate: -14.74109  Ha\n",
      "[58] Current estimate: -14.78243  Ha\n",
      "[59] Current estimate: -14.74488  Ha\n",
      "[60] Current estimate: -14.83505  Ha\n",
      "[61] Current estimate: -14.79304  Ha\n",
      "[62] Current estimate: -14.84372  Ha\n",
      "[63] Current estimate: -14.80028  Ha\n",
      "[64] Current estimate: -14.84682  Ha\n",
      "[65] Current estimate: -14.79485  Ha\n",
      "[66] Current estimate: -14.77805  Ha\n",
      "[67] Current estimate: -14.79349  Ha\n",
      "[68] Current estimate: -14.78158  Ha\n",
      "[69] Current estimate: -14.80146  Ha\n",
      "[70] Current estimate: -14.86780  Ha\n",
      "[71] Current estimate: -14.76993  Ha\n",
      "[72] Current estimate: -14.76708  Ha\n",
      "[73] Current estimate: -14.80146  Ha\n",
      "[74] Current estimate: -14.76610  Ha\n",
      "[75] Current estimate: -14.78067  Ha\n",
      "[76] Current estimate: -14.84662  Ha\n",
      "[77] Current estimate: -14.76707  Ha\n",
      "[78] Current estimate: -14.85439  Ha\n",
      "[79] Current estimate: -14.82830  Ha\n",
      "[80] Current estimate: -14.76860  Ha\n",
      "[81] Current estimate: -14.80083  Ha\n",
      "[82] Current estimate: -14.83689  Ha\n",
      "[83] Current estimate: -14.81681  Ha\n",
      "[84] Current estimate: -14.82488  Ha\n",
      "[85] Current estimate: -14.78265  Ha\n",
      "[86] Current estimate: -14.81459  Ha\n",
      "[87] Current estimate: -14.87519  Ha\n",
      "[88] Current estimate: -14.84568  Ha\n",
      "[89] Current estimate: -14.83657  Ha\n",
      "[90] Current estimate: -14.81541  Ha\n",
      "[91] Current estimate: -14.82953  Ha\n",
      "[92] Current estimate: -14.77224  Ha\n",
      "[93] Current estimate: -14.81167  Ha\n",
      "[94] Current estimate: -14.76481  Ha\n",
      "[95] Current estimate: -14.83704  Ha\n",
      "[96] Current estimate: -14.80902  Ha\n",
      "[97] Current estimate: -14.79370  Ha\n",
      "[98] Current estimate: -14.79991  Ha\n",
      "[99] Current estimate: -14.81134  Ha\n",
      "[100] Current estimate: -14.79936  Ha\n",
      "[101] Current estimate: -14.82914  Ha\n",
      "[102] Current estimate: -14.85127  Ha\n",
      "[103] Current estimate: -14.87807  Ha\n",
      "[104] Current estimate: -14.80726  Ha\n",
      "[105] Current estimate: -14.84616  Ha\n",
      "[106] Current estimate: -14.79830  Ha\n",
      "[107] Current estimate: -14.83361  Ha\n",
      "[108] Current estimate: -14.89934  Ha\n",
      "[109] Current estimate: -14.81155  Ha\n",
      "[110] Current estimate: -14.79239  Ha\n",
      "[111] Current estimate: -14.78314  Ha\n",
      "[112] Current estimate: -14.83396  Ha\n",
      "[113] Current estimate: -14.87460  Ha\n",
      "[114] Current estimate: -14.82522  Ha\n",
      "[115] Current estimate: -14.81269  Ha\n",
      "[116] Current estimate: -14.78956  Ha\n",
      "[117] Current estimate: -14.79860  Ha\n",
      "[118] Current estimate: -14.86841  Ha\n",
      "[119] Current estimate: -14.80708  Ha\n",
      "[120] Current estimate: -14.78195  Ha\n",
      "[121] Current estimate: -14.86382  Ha\n",
      "[122] Current estimate: -14.81484  Ha\n",
      "[123] Current estimate: -14.81356  Ha\n",
      "[124] Current estimate: -14.79493  Ha\n",
      "[125] Current estimate: -14.84857  Ha\n",
      "[126] Current estimate: -14.83347  Ha\n",
      "[127] Current estimate: -14.80580  Ha\n",
      "[128] Current estimate: -14.82927  Ha\n",
      "[129] Current estimate: -14.81389  Ha\n",
      "[130] Current estimate: -14.78760  Ha\n",
      "[131] Current estimate: -14.89730  Ha\n",
      "[132] Current estimate: -14.80870  Ha\n",
      "[133] Current estimate: -14.84535  Ha\n",
      "[134] Current estimate: -14.79398  Ha\n",
      "[135] Current estimate: -14.77168  Ha\n",
      "[136] Current estimate: -14.77123  Ha\n",
      "[137] Current estimate: -14.78269  Ha\n",
      "[138] Current estimate: -14.83073  Ha\n",
      "[139] Current estimate: -14.76160  Ha\n",
      "[140] Current estimate: -14.78444  Ha\n",
      "[141] Current estimate: -14.84385  Ha\n",
      "[142] Current estimate: -14.82145  Ha\n",
      "[143] Current estimate: -14.79571  Ha\n",
      "[144] Current estimate: -14.82109  Ha\n",
      "[145] Current estimate: -14.79598  Ha\n",
      "[146] Current estimate: -14.83731  Ha\n",
      "[147] Current estimate: -14.80092  Ha\n",
      "[148] Current estimate: -14.85272  Ha\n",
      "[149] Current estimate: -14.80802  Ha\n",
      "[150] Current estimate: -14.76018  Ha\n",
      "[151] Current estimate: -14.77080  Ha\n",
      "[152] Current estimate: -14.83017  Ha\n",
      "[153] Current estimate: -14.75502  Ha\n",
      "[154] Current estimate: -14.83189  Ha\n",
      "[155] Current estimate: -14.77415  Ha\n",
      "[156] Current estimate: -14.79422  Ha\n",
      "[157] Current estimate: -14.83471  Ha\n",
      "[158] Current estimate: -14.77454  Ha\n",
      "[159] Current estimate: -14.79218  Ha\n",
      "[160] Current estimate: -14.81111  Ha\n",
      "[161] Current estimate: -14.77019  Ha\n",
      "[162] Current estimate: -14.78269  Ha\n",
      "[163] Current estimate: -14.77354  Ha\n",
      "[164] Current estimate: -14.78080  Ha\n",
      "[165] Current estimate: -14.86160  Ha\n",
      "[166] Current estimate: -14.83087  Ha\n",
      "[167] Current estimate: -14.81825  Ha\n",
      "[168] Current estimate: -14.81202  Ha\n",
      "[169] Current estimate: -14.84455  Ha\n",
      "[170] Current estimate: -14.77848  Ha\n",
      "[171] Current estimate: -14.80290  Ha\n",
      "[172] Current estimate: -14.84973  Ha\n",
      "[173] Current estimate: -14.78864  Ha\n",
      "[174] Current estimate: -14.81508  Ha\n",
      "[175] Current estimate: -14.81229  Ha\n",
      "[176] Current estimate: -14.79817  Ha\n",
      "[177] Current estimate: -14.80400  Ha\n",
      "[178] Current estimate: -14.76822  Ha\n",
      "[179] Current estimate: -14.78713  Ha\n",
      "[180] Current estimate: -14.81932  Ha\n",
      "[181] Current estimate: -14.84386  Ha\n",
      "[182] Current estimate: -14.86812  Ha\n",
      "[183] Current estimate: -14.81494  Ha\n",
      "[184] Current estimate: -14.87533  Ha\n",
      "[185] Current estimate: -14.75511  Ha\n",
      "[186] Current estimate: -14.79832  Ha\n",
      "[187] Current estimate: -14.85500  Ha\n",
      "[188] Current estimate: -14.81393  Ha\n",
      "[189] Current estimate: -14.83186  Ha\n",
      "[190] Current estimate: -14.79987  Ha\n",
      "[191] Current estimate: -14.74145  Ha\n",
      "[192] Current estimate: -14.80597  Ha\n",
      "[193] Current estimate: -14.75840  Ha\n",
      "[194] Current estimate: -14.82903  Ha\n",
      "[195] Current estimate: -14.84975  Ha\n",
      "[196] Current estimate: -14.80419  Ha\n",
      "[197] Current estimate: -14.78582  Ha\n",
      "[198] Current estimate: -14.76215  Ha\n",
      "[199] Current estimate: -14.81632  Ha\n",
      "[200] Current estimate: -14.79895  Ha\n"
     ]
    }
   ],
   "source": [
    "# energies_mitigated_uccsd, params_mitigated_uccsd = train_local(problem, qubit_op, uccsd_simplified, backend_noisy, options, initial_point=None)"
   ]
  },
  {
   "cell_type": "code",
   "execution_count": 148,
   "metadata": {},
   "outputs": [],
   "source": [
    "# np.save(Path.cwd() / \"data\" / \"energies_mitigated_uccsd\", np.array(energies_mitigated_uccsd))"
   ]
  },
  {
   "cell_type": "code",
   "execution_count": 176,
   "metadata": {},
   "outputs": [],
   "source": [
    "energies_mitigated_uccsd = np.load(Path.cwd() / \"data\" / \"energies_mitigated_uccsd.npy\")"
   ]
  },
  {
   "cell_type": "markdown",
   "metadata": {
    "id": "aFFifM3sk3bP"
   },
   "source": [
    "#### HAE"
   ]
  },
  {
   "cell_type": "code",
   "execution_count": 166,
   "metadata": {
    "id": "6m9X9niWio0H"
   },
   "outputs": [
    {
     "name": "stdout",
     "output_type": "stream",
     "text": [
      "[1] Current estimate: -14.75142  Ha\n",
      "[2] Current estimate: -14.82165  Ha\n",
      "[3] Current estimate: -14.87579  Ha\n",
      "[4] Current estimate: -14.86947  Ha\n",
      "[5] Current estimate: -14.73205  Ha\n",
      "[6] Current estimate: -14.76033  Ha\n",
      "[7] Current estimate: -14.75269  Ha\n",
      "[8] Current estimate: -14.86000  Ha\n",
      "[9] Current estimate: -14.90689  Ha\n",
      "[10] Current estimate: -15.03586  Ha\n",
      "[11] Current estimate: -14.99958  Ha\n",
      "[12] Current estimate: -15.06775  Ha\n",
      "[13] Current estimate: -15.08768  Ha\n",
      "[14] Current estimate: -15.22586  Ha\n",
      "[15] Current estimate: -15.21344  Ha\n",
      "[16] Current estimate: -15.24508  Ha\n",
      "[17] Current estimate: -15.23868  Ha\n",
      "[18] Current estimate: -15.28506  Ha\n",
      "[19] Current estimate: -15.21306  Ha\n",
      "[20] Current estimate: -15.17162  Ha\n",
      "[21] Current estimate: -15.23092  Ha\n",
      "[22] Current estimate: -15.24962  Ha\n",
      "[23] Current estimate: -15.18701  Ha\n",
      "[24] Current estimate: -15.26349  Ha\n",
      "[25] Current estimate: -15.23651  Ha\n",
      "[26] Current estimate: -15.18776  Ha\n",
      "[27] Current estimate: -15.22671  Ha\n",
      "[28] Current estimate: -15.27084  Ha\n",
      "[29] Current estimate: -15.23024  Ha\n",
      "[30] Current estimate: -15.24853  Ha\n",
      "[31] Current estimate: -15.24456  Ha\n",
      "[32] Current estimate: -15.23727  Ha\n",
      "[33] Current estimate: -15.23824  Ha\n",
      "[34] Current estimate: -15.26059  Ha\n",
      "[35] Current estimate: -15.25757  Ha\n",
      "[36] Current estimate: -15.23741  Ha\n",
      "[37] Current estimate: -15.27808  Ha\n",
      "[38] Current estimate: -15.29555  Ha\n",
      "[39] Current estimate: -15.32868  Ha\n",
      "[40] Current estimate: -15.24992  Ha\n",
      "[41] Current estimate: -15.25587  Ha\n",
      "[42] Current estimate: -15.28013  Ha\n",
      "[43] Current estimate: -15.32240  Ha\n",
      "[44] Current estimate: -15.33065  Ha\n",
      "[45] Current estimate: -15.30278  Ha\n",
      "[46] Current estimate: -15.28551  Ha\n",
      "[47] Current estimate: -15.28309  Ha\n",
      "[48] Current estimate: -15.29724  Ha\n",
      "[49] Current estimate: -15.32205  Ha\n",
      "[50] Current estimate: -15.30069  Ha\n",
      "[51] Current estimate: -15.35154  Ha\n",
      "[52] Current estimate: -15.34454  Ha\n",
      "[53] Current estimate: -15.28906  Ha\n",
      "[54] Current estimate: -15.24289  Ha\n",
      "[55] Current estimate: -15.28406  Ha\n",
      "[56] Current estimate: -15.30025  Ha\n",
      "[57] Current estimate: -15.32945  Ha\n",
      "[58] Current estimate: -15.36920  Ha\n",
      "[59] Current estimate: -15.30368  Ha\n",
      "[60] Current estimate: -15.33807  Ha\n",
      "[61] Current estimate: -15.31402  Ha\n",
      "[62] Current estimate: -15.31579  Ha\n",
      "[63] Current estimate: -15.37930  Ha\n",
      "[64] Current estimate: -15.40226  Ha\n",
      "[65] Current estimate: -15.39709  Ha\n",
      "[66] Current estimate: -15.35735  Ha\n",
      "[67] Current estimate: -15.36844  Ha\n",
      "[68] Current estimate: -15.37059  Ha\n",
      "[69] Current estimate: -15.34967  Ha\n",
      "[70] Current estimate: -15.35201  Ha\n",
      "[71] Current estimate: -15.35389  Ha\n",
      "[72] Current estimate: -15.36745  Ha\n",
      "[73] Current estimate: -15.31108  Ha\n",
      "[74] Current estimate: -15.35926  Ha\n",
      "[75] Current estimate: -15.36529  Ha\n",
      "[76] Current estimate: -15.38711  Ha\n",
      "[77] Current estimate: -15.38813  Ha\n",
      "[78] Current estimate: -15.35587  Ha\n",
      "[79] Current estimate: -15.36047  Ha\n",
      "[80] Current estimate: -15.35867  Ha\n",
      "[81] Current estimate: -15.38831  Ha\n",
      "[82] Current estimate: -15.33591  Ha\n",
      "[83] Current estimate: -15.36360  Ha\n",
      "[84] Current estimate: -15.34081  Ha\n",
      "[85] Current estimate: -15.28495  Ha\n",
      "[86] Current estimate: -15.38453  Ha\n",
      "[87] Current estimate: -15.39405  Ha\n",
      "[88] Current estimate: -15.32170  Ha\n",
      "[89] Current estimate: -15.37881  Ha\n",
      "[90] Current estimate: -15.33412  Ha\n",
      "[91] Current estimate: -15.38189  Ha\n",
      "[92] Current estimate: -15.36417  Ha\n",
      "[93] Current estimate: -15.33831  Ha\n",
      "[94] Current estimate: -15.34081  Ha\n",
      "[95] Current estimate: -15.34663  Ha\n",
      "[96] Current estimate: -15.35311  Ha\n",
      "[97] Current estimate: -15.35764  Ha\n",
      "[98] Current estimate: -15.39518  Ha\n",
      "[99] Current estimate: -15.29680  Ha\n",
      "[100] Current estimate: -15.36772  Ha\n",
      "[101] Current estimate: -15.34896  Ha\n",
      "[102] Current estimate: -15.35757  Ha\n",
      "[103] Current estimate: -15.40641  Ha\n",
      "[104] Current estimate: -15.35393  Ha\n",
      "[105] Current estimate: -15.34453  Ha\n",
      "[106] Current estimate: -15.39707  Ha\n",
      "[107] Current estimate: -15.33115  Ha\n",
      "[108] Current estimate: -15.33357  Ha\n",
      "[109] Current estimate: -15.30167  Ha\n",
      "[110] Current estimate: -15.34872  Ha\n",
      "[111] Current estimate: -15.32371  Ha\n",
      "[112] Current estimate: -15.35487  Ha\n",
      "[113] Current estimate: -15.37491  Ha\n",
      "[114] Current estimate: -15.33328  Ha\n",
      "[115] Current estimate: -15.36435  Ha\n",
      "[116] Current estimate: -15.41094  Ha\n",
      "[117] Current estimate: -15.30606  Ha\n",
      "[118] Current estimate: -15.43574  Ha\n",
      "[119] Current estimate: -15.38233  Ha\n",
      "[120] Current estimate: -15.39106  Ha\n",
      "[121] Current estimate: -15.36549  Ha\n",
      "[122] Current estimate: -15.35480  Ha\n",
      "[123] Current estimate: -15.36790  Ha\n",
      "[124] Current estimate: -15.40710  Ha\n",
      "[125] Current estimate: -15.39453  Ha\n",
      "[126] Current estimate: -15.44448  Ha\n",
      "[127] Current estimate: -15.40806  Ha\n",
      "[128] Current estimate: -15.36369  Ha\n",
      "[129] Current estimate: -15.42994  Ha\n",
      "[130] Current estimate: -15.40669  Ha\n",
      "[131] Current estimate: -15.43945  Ha\n",
      "[132] Current estimate: -15.35648  Ha\n",
      "[133] Current estimate: -15.42442  Ha\n",
      "[134] Current estimate: -15.38786  Ha\n",
      "[135] Current estimate: -15.38732  Ha\n",
      "[136] Current estimate: -15.40492  Ha\n",
      "[137] Current estimate: -15.40647  Ha\n",
      "[138] Current estimate: -15.38232  Ha\n",
      "[139] Current estimate: -15.44708  Ha\n",
      "[140] Current estimate: -15.38625  Ha\n",
      "[141] Current estimate: -15.41965  Ha\n",
      "[142] Current estimate: -15.36556  Ha\n",
      "[143] Current estimate: -15.43722  Ha\n",
      "[144] Current estimate: -15.41959  Ha\n",
      "[145] Current estimate: -15.42945  Ha\n",
      "[146] Current estimate: -15.41961  Ha\n",
      "[147] Current estimate: -15.44528  Ha\n",
      "[148] Current estimate: -15.41238  Ha\n",
      "[149] Current estimate: -15.37797  Ha\n",
      "[150] Current estimate: -15.43474  Ha\n",
      "[151] Current estimate: -15.48092  Ha\n",
      "[152] Current estimate: -15.44698  Ha\n",
      "[153] Current estimate: -15.40148  Ha\n",
      "[154] Current estimate: -15.43939  Ha\n",
      "[155] Current estimate: -15.44946  Ha\n",
      "[156] Current estimate: -15.43906  Ha\n",
      "[157] Current estimate: -15.40838  Ha\n",
      "[158] Current estimate: -15.39947  Ha\n",
      "[159] Current estimate: -15.35692  Ha\n",
      "[160] Current estimate: -15.36504  Ha\n",
      "[161] Current estimate: -15.46556  Ha\n",
      "[162] Current estimate: -15.41723  Ha\n",
      "[163] Current estimate: -15.45627  Ha\n",
      "[164] Current estimate: -15.45876  Ha\n",
      "[165] Current estimate: -15.45337  Ha\n",
      "[166] Current estimate: -15.46003  Ha\n",
      "[167] Current estimate: -15.39327  Ha\n",
      "[168] Current estimate: -15.45748  Ha\n",
      "[169] Current estimate: -15.40250  Ha\n",
      "[170] Current estimate: -15.42869  Ha\n",
      "[171] Current estimate: -15.44166  Ha\n",
      "[172] Current estimate: -15.41747  Ha\n",
      "[173] Current estimate: -15.36746  Ha\n",
      "[174] Current estimate: -15.47647  Ha\n",
      "[175] Current estimate: -15.41137  Ha\n",
      "[176] Current estimate: -15.43716  Ha\n",
      "[177] Current estimate: -15.45211  Ha\n",
      "[178] Current estimate: -15.42452  Ha\n",
      "[179] Current estimate: -15.47280  Ha\n",
      "[180] Current estimate: -15.45198  Ha\n",
      "[181] Current estimate: -15.44378  Ha\n",
      "[182] Current estimate: -15.43959  Ha\n",
      "[183] Current estimate: -15.39945  Ha\n",
      "[184] Current estimate: -15.41544  Ha\n",
      "[185] Current estimate: -15.40760  Ha\n",
      "[186] Current estimate: -15.42459  Ha\n",
      "[187] Current estimate: -15.45494  Ha\n",
      "[188] Current estimate: -15.42630  Ha\n",
      "[189] Current estimate: -15.47606  Ha\n",
      "[190] Current estimate: -15.45356  Ha\n",
      "[191] Current estimate: -15.42638  Ha\n",
      "[192] Current estimate: -15.44790  Ha\n",
      "[193] Current estimate: -15.45965  Ha\n",
      "[194] Current estimate: -15.43155  Ha\n",
      "[195] Current estimate: -15.45189  Ha\n",
      "[196] Current estimate: -15.40649  Ha\n",
      "[197] Current estimate: -15.46966  Ha\n",
      "[198] Current estimate: -15.47105  Ha\n",
      "[199] Current estimate: -15.42039  Ha\n",
      "[200] Current estimate: -15.41088  Ha\n"
     ]
    }
   ],
   "source": [
    "# energies_mitigated_hea, params_mitigated_hea = train_local(problem, qubit_op, hea_simplified, backend_noisy, options, initial_point=None)"
   ]
  },
  {
   "cell_type": "code",
   "execution_count": 172,
   "metadata": {},
   "outputs": [],
   "source": [
    "# np.save(Path.cwd() / \"data\" / \"energies_mitigated_hea\", np.array(energies_mitigated_hea))"
   ]
  },
  {
   "cell_type": "code",
   "execution_count": 174,
   "metadata": {},
   "outputs": [],
   "source": [
    "energies_mitigated_hea = np.load(Path.cwd() / \"data\" / \"energies_mitigated_hea.npy\")"
   ]
  },
  {
   "cell_type": "code",
   "execution_count": 177,
   "metadata": {},
   "outputs": [
    {
     "data": {
      "image/png": "[encoded data removed]",
      "text/plain": [
       "<Figure size 1000x500 with 1 Axes>"
      ]
     },
     "metadata": {},
     "output_type": "display_data"
    }
   ],
   "source": [
    "plt.figure(figsize=(10, 5), facecolor='white')\n",
    "plt.plot(energies_mitigated_uccsd, label=\"UCCSD\")\n",
    "plt.plot(energies_mitigated_hea, label=\"HEA\")\n",
    "\n",
    "plt.axhline(y=-15.561353, color=\"tab:red\", ls=\"--\", label=\"Target Energy\")\n",
    "\n",
    "plt.legend(loc=\"best\")\n",
    "plt.xlabel(\"Iteration\")\n",
    "plt.ylabel(\"Energy [H]\")\n",
    "plt.title(\"VQE Run on a noisy simulator (Guadalupe-like) with PEC mitigation\")\n",
    "plt.show()"
   ]
  },
  {
   "cell_type": "markdown",
   "metadata": {},
   "source": [
    "The difference between both ansätze remained as expected, although the resul given by the EfficientSU2 ansatz is now much closer to the the actual ground energy."
   ]
  },
  {
   "cell_type": "markdown",
   "metadata": {
    "id": "Yph3Wk1zju2L"
   },
   "source": [
    "### Real device (IBMQ Guadalupe)"
   ]
  },
  {
   "cell_type": "code",
   "execution_count": null,
   "metadata": {},
   "outputs": [],
   "source": [
    "service = QiskitRuntimeService(channel='ibm_quantum')\n",
    "service.backends()"
   ]
  },
  {
   "cell_type": "code",
   "execution_count": null,
   "metadata": {},
   "outputs": [],
   "source": [
    "guadalupe = service.backends(name='ibmq_guadalupe')[0]\n",
    "\n",
    "print(guadalupe)"
   ]
  },
  {
   "cell_type": "code",
   "execution_count": null,
   "metadata": {},
   "outputs": [],
   "source": [
    "def train_remote(problem, observables, ansatz, backend, options, initial_point=None):\n",
    "    estimator = BackendEstimator(backend=backend, options=options)\n",
    "    energies = []\n",
    "    param_history = []\n",
    "    job_list = []\n",
    "    prev_jobs = 0\n",
    "    last_time = time()\n",
    "    nb_iter = 0\n",
    "    with Session(service=service, backend=backend) as session: \n",
    "    \n",
    "        def evaluate_expectation(x):\n",
    "            estimator = Estimator(options=options, session=session)\n",
    "            x = list(x)\n",
    "            job = estimator.run(circuits=[ansatz], parameter_values=[x], observables=[observables]).result()\n",
    "            results = job.values[0]\n",
    "            job_list.append(job)\n",
    "\n",
    "            return np.real(results)\n",
    "\n",
    "        def callback(x, fx, ax, tx, nx):\n",
    "            nonlocal prev_jobs, last_time, nb_iter\n",
    "\n",
    "            sol = MinimumEigensolverResult()\n",
    "            sol.eigenvalue = ax\n",
    "            energies.append(np.real(problem.interpret(sol).total_energies[0]))\n",
    "            param_history.append(fx)\n",
    "            print(f\"[{len(energies)}] Current estimate: {energies[-1]:.5f}  Ha\")\n",
    "            prev_jobs = len(job_list)\n",
    "            last_time = time() \n",
    "\n",
    "        if initial_point is None:\n",
    "            initial_point = np.random.random(ansatz.num_parameters)\n",
    "\n",
    "        optimizer =  SPSA(maxiter=200, callback=callback)\n",
    "        result =  optimizer.minimize(evaluate_expectation, x0=initial_point)\n",
    "   \n",
    "    return energies, param_history"
   ]
  },
  {
   "cell_type": "code",
   "execution_count": 7,
   "metadata": {},
   "outputs": [],
   "source": [
    "# energies_real_hea, params_real_hea = train_local(problem, qubit_op, hea_simplified, guadalupe, options, initial_point=None)\n",
    "# np.save(Path.cwd() / \"data\" / \"energies_real_hea\", np.array(energies_real_hea))\n",
    "energies_real_hea = np.load(Path.cwd() / \"data\" / \"energies_real_hea.npy\")"
   ]
  },
  {
   "cell_type": "code",
   "execution_count": 8,
   "metadata": {},
   "outputs": [
    {
     "data": {
      "image/png": "[encoded data removed]",
      "text/plain": [
       "<Figure size 1000x500 with 1 Axes>"
      ]
     },
     "metadata": {},
     "output_type": "display_data"
    }
   ],
   "source": [
    "plt.figure(figsize=(10, 5), facecolor='white')\n",
    "plt.plot(energies_real_hea, label=\"HEA\")\n",
    "\n",
    "plt.axhline(y=-15.561353, color=\"tab:red\", ls=\"--\", label=\"Target Energy\")\n",
    "\n",
    "plt.legend(loc=\"best\")\n",
    "plt.xlabel(\"Iteration\")\n",
    "plt.ylabel(\"Energy [H]\")\n",
    "plt.title(\"VQE Run on a Guadalupe with ZNE mitigation\")\n",
    "plt.show()"
   ]
  },
  {
   "cell_type": "code",
   "execution_count": null,
   "metadata": {},
   "outputs": [],
   "source": []
  }
 ],
 "metadata": {
  "colab": {
   "provenance": []
  },
  "kernelspec": {
   "display_name": "Python 3 (ipykernel)",
   "language": "python",
   "name": "python3"
  },
  "language_info": {
   "codemirror_mode": {
    "name": "ipython",
    "version": 3
   },
   "file_extension": ".py",
   "mimetype": "text/x-python",
   "name": "python",
   "nbconvert_exporter": "python",
   "pygments_lexer": "ipython3",
   "version": "3.10.9"
  }
 },
 "nbformat": 4,
 "nbformat_minor": 1
}
